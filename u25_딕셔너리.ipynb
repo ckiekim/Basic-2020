{
 "cells": [
  {
   "cell_type": "markdown",
   "metadata": {},
   "source": [
    "# Unit 25. 딕셔너리 응용하기"
   ]
  },
  {
   "cell_type": "code",
   "execution_count": 1,
   "metadata": {},
   "outputs": [
    {
     "data": {
      "text/plain": [
       "{'a': 10, 'b': 20, 'c': 30, 'd': 40, 'e': None}"
      ]
     },
     "execution_count": 1,
     "metadata": {},
     "output_type": "execute_result"
    }
   ],
   "source": [
    "x = {'a': 10, 'b': 20, 'c': 30, 'd': 40}\n",
    "x.setdefault('e')\n",
    "x"
   ]
  },
  {
   "cell_type": "code",
   "execution_count": 2,
   "metadata": {},
   "outputs": [
    {
     "data": {
      "text/plain": [
       "{'a': 10, 'b': 20, 'c': 30, 'd': 40, 'e': None, 'f': 100}"
      ]
     },
     "execution_count": 2,
     "metadata": {},
     "output_type": "execute_result"
    }
   ],
   "source": [
    "x.setdefault('f', 100)\n",
    "x"
   ]
  },
  {
   "cell_type": "code",
   "execution_count": 3,
   "metadata": {},
   "outputs": [
    {
     "data": {
      "text/plain": [
       "{'a': 10, 'b': 20, 'c': 30, 'd': 40, 'e': 50, 'f': 100}"
      ]
     },
     "execution_count": 3,
     "metadata": {},
     "output_type": "execute_result"
    }
   ],
   "source": [
    "# 값을 변경 또는 추가\n",
    "x.update(e=50)\n",
    "x"
   ]
  },
  {
   "cell_type": "code",
   "execution_count": 4,
   "metadata": {},
   "outputs": [
    {
     "data": {
      "text/plain": [
       "{'a': 900, 'b': 20, 'c': 30, 'd': 40, 'e': 50, 'f': 60}"
      ]
     },
     "execution_count": 4,
     "metadata": {},
     "output_type": "execute_result"
    }
   ],
   "source": [
    "x.update(a=900, f=60)\n",
    "x"
   ]
  },
  {
   "cell_type": "code",
   "execution_count": 5,
   "metadata": {},
   "outputs": [
    {
     "data": {
      "text/plain": [
       "{1: 'ONE', 2: 'two', 3: 'THREE'}"
      ]
     },
     "execution_count": 5,
     "metadata": {},
     "output_type": "execute_result"
    }
   ],
   "source": [
    "y = {1: 'one', 2: 'two'}\n",
    "y.update({1: 'ONE', 3: 'THREE'})\n",
    "y"
   ]
  },
  {
   "cell_type": "code",
   "execution_count": 6,
   "metadata": {},
   "outputs": [
    {
     "data": {
      "text/plain": [
       "{1: 'ONE', 2: 'TWO', 3: 'THREE', 4: 'FOUR'}"
      ]
     },
     "execution_count": 6,
     "metadata": {},
     "output_type": "execute_result"
    }
   ],
   "source": [
    "y.update([[2, 'TWO'], [4, 'FOUR']])\n",
    "y"
   ]
  },
  {
   "cell_type": "code",
   "execution_count": 7,
   "metadata": {},
   "outputs": [
    {
     "data": {
      "text/plain": [
       "{1: 'one', 2: 'two', 3: 'THREE', 4: 'FOUR'}"
      ]
     },
     "execution_count": 7,
     "metadata": {},
     "output_type": "execute_result"
    }
   ],
   "source": [
    "y.update(zip([1, 2], ['one', 'two']))\n",
    "y"
   ]
  },
  {
   "cell_type": "code",
   "execution_count": 8,
   "metadata": {},
   "outputs": [
    {
     "data": {
      "text/plain": [
       "({'b': 20, 'c': 30, 'd': 40}, 10)"
      ]
     },
     "execution_count": 8,
     "metadata": {},
     "output_type": "execute_result"
    }
   ],
   "source": [
    "# 엘리먼트 삭제\n",
    "x = {'a': 10, 'b': 20, 'c': 30, 'd': 40}\n",
    "z = x.pop('a')\n",
    "x, z"
   ]
  },
  {
   "cell_type": "code",
   "execution_count": 9,
   "metadata": {},
   "outputs": [
    {
     "data": {
      "text/plain": [
       "20"
      ]
     },
     "execution_count": 9,
     "metadata": {},
     "output_type": "execute_result"
    }
   ],
   "source": [
    "z = x.pop('b', 0)\n",
    "z"
   ]
  },
  {
   "cell_type": "code",
   "execution_count": 10,
   "metadata": {},
   "outputs": [
    {
     "data": {
      "text/plain": [
       "0"
      ]
     },
     "execution_count": 10,
     "metadata": {},
     "output_type": "execute_result"
    }
   ],
   "source": [
    "z = x.pop('z', 0)\n",
    "z"
   ]
  },
  {
   "cell_type": "code",
   "execution_count": 11,
   "metadata": {},
   "outputs": [
    {
     "data": {
      "text/plain": [
       "{'d': 40}"
      ]
     },
     "execution_count": 11,
     "metadata": {},
     "output_type": "execute_result"
    }
   ],
   "source": [
    "del x['c']\n",
    "x"
   ]
  },
  {
   "cell_type": "code",
   "execution_count": 12,
   "metadata": {},
   "outputs": [
    {
     "data": {
      "text/plain": [
       "('d', 40)"
      ]
     },
     "execution_count": 12,
     "metadata": {},
     "output_type": "execute_result"
    }
   ],
   "source": [
    "x = {'a': 10, 'b': 20, 'c': 30, 'd': 40}\n",
    "x.popitem()"
   ]
  },
  {
   "cell_type": "code",
   "execution_count": 13,
   "metadata": {},
   "outputs": [
    {
     "data": {
      "text/plain": [
       "('c', 30)"
      ]
     },
     "execution_count": 13,
     "metadata": {},
     "output_type": "execute_result"
    }
   ],
   "source": [
    "x.popitem()"
   ]
  },
  {
   "cell_type": "code",
   "execution_count": 14,
   "metadata": {},
   "outputs": [
    {
     "data": {
      "text/plain": [
       "{}"
      ]
     },
     "execution_count": 14,
     "metadata": {},
     "output_type": "execute_result"
    }
   ],
   "source": [
    "x = {'a': 10, 'b': 20, 'c': 30, 'd': 40}\n",
    "x.clear()\n",
    "x"
   ]
  },
  {
   "cell_type": "code",
   "execution_count": 15,
   "metadata": {},
   "outputs": [
    {
     "data": {
      "text/plain": [
       "10"
      ]
     },
     "execution_count": 15,
     "metadata": {},
     "output_type": "execute_result"
    }
   ],
   "source": [
    "# x['a']\n",
    "x = {'a': 10, 'b': 20, 'c': 30, 'd': 40}\n",
    "x.get('a')"
   ]
  },
  {
   "cell_type": "markdown",
   "metadata": {},
   "source": [
    "### 딕셔너리에서 키-값 쌍을 모두 가져오기"
   ]
  },
  {
   "cell_type": "code",
   "execution_count": 16,
   "metadata": {},
   "outputs": [
    {
     "data": {
      "text/plain": [
       "dict_items([('a', 10), ('b', 20), ('c', 30), ('d', 40)])"
      ]
     },
     "execution_count": 16,
     "metadata": {},
     "output_type": "execute_result"
    }
   ],
   "source": [
    "x = {'a': 10, 'b': 20, 'c': 30, 'd': 40}\n",
    "x.items()"
   ]
  },
  {
   "cell_type": "code",
   "execution_count": 17,
   "metadata": {},
   "outputs": [
    {
     "name": "stdout",
     "output_type": "stream",
     "text": [
      "a 10\n",
      "b 20\n",
      "c 30\n",
      "d 40\n"
     ]
    }
   ],
   "source": [
    "for key, value in x.items():\n",
    "    print(key, value)"
   ]
  },
  {
   "cell_type": "code",
   "execution_count": 18,
   "metadata": {},
   "outputs": [
    {
     "data": {
      "text/plain": [
       "dict_keys(['a', 'b', 'c', 'd'])"
      ]
     },
     "execution_count": 18,
     "metadata": {},
     "output_type": "execute_result"
    }
   ],
   "source": [
    "x.keys()"
   ]
  },
  {
   "cell_type": "code",
   "execution_count": 19,
   "metadata": {},
   "outputs": [
    {
     "data": {
      "text/plain": [
       "dict_values([10, 20, 30, 40])"
      ]
     },
     "execution_count": 19,
     "metadata": {},
     "output_type": "execute_result"
    }
   ],
   "source": [
    "x.values()"
   ]
  },
  {
   "cell_type": "code",
   "execution_count": 20,
   "metadata": {},
   "outputs": [
    {
     "name": "stdout",
     "output_type": "stream",
     "text": [
      "a 10\n",
      "b 20\n",
      "c 30\n",
      "d 40\n"
     ]
    }
   ],
   "source": [
    "for key in x.keys():\n",
    "    print(key, x[key])"
   ]
  },
  {
   "cell_type": "markdown",
   "metadata": {},
   "source": [
    "### 리스트와 튜플로 딕셔너리 만들기"
   ]
  },
  {
   "cell_type": "code",
   "execution_count": 21,
   "metadata": {},
   "outputs": [
    {
     "data": {
      "text/plain": [
       "{'a': None, 'b': None, 'c': None, 'd': None}"
      ]
     },
     "execution_count": 21,
     "metadata": {},
     "output_type": "execute_result"
    }
   ],
   "source": [
    "keys = ['a', 'b', 'c', 'd']\n",
    "x = dict.fromkeys(keys)\n",
    "x"
   ]
  },
  {
   "cell_type": "code",
   "execution_count": 22,
   "metadata": {},
   "outputs": [
    {
     "data": {
      "text/plain": [
       "{'a': 100, 'b': 100, 'c': 100, 'd': 100}"
      ]
     },
     "execution_count": 22,
     "metadata": {},
     "output_type": "execute_result"
    }
   ],
   "source": [
    "y = dict.fromkeys(keys, 100)\n",
    "y"
   ]
  },
  {
   "cell_type": "markdown",
   "metadata": {},
   "source": [
    "### 딕셔너리와 for 반복문"
   ]
  },
  {
   "cell_type": "code",
   "execution_count": 23,
   "metadata": {},
   "outputs": [
    {
     "name": "stdout",
     "output_type": "stream",
     "text": [
      "a 10\n",
      "b 20\n",
      "c 30\n",
      "d 40\n"
     ]
    }
   ],
   "source": [
    "x = {'a': 10, 'b': 20, 'c': 30, 'd': 40}\n",
    "for key, value in x.items():\n",
    "    print(key, value)"
   ]
  },
  {
   "cell_type": "code",
   "execution_count": 24,
   "metadata": {},
   "outputs": [
    {
     "name": "stdout",
     "output_type": "stream",
     "text": [
      "a 10\n",
      "b 20\n",
      "c 30\n",
      "d 40\n"
     ]
    }
   ],
   "source": [
    "for key in x.keys():\n",
    "    print(key, x.get(key))"
   ]
  },
  {
   "cell_type": "code",
   "execution_count": 25,
   "metadata": {},
   "outputs": [
    {
     "name": "stdout",
     "output_type": "stream",
     "text": [
      "10\n",
      "20\n",
      "30\n",
      "40\n"
     ]
    }
   ],
   "source": [
    "for value in x.values():\n",
    "    print(value)"
   ]
  },
  {
   "cell_type": "markdown",
   "metadata": {},
   "source": [
    "### 딕셔너리 표현식"
   ]
  },
  {
   "cell_type": "code",
   "execution_count": 26,
   "metadata": {},
   "outputs": [
    {
     "data": {
      "text/plain": [
       "{'a': 0, 'b': 0, 'c': 0, 'd': 0}"
      ]
     },
     "execution_count": 26,
     "metadata": {},
     "output_type": "execute_result"
    }
   ],
   "source": [
    "keys = ['a', 'b', 'c', 'd']\n",
    "x = {key: value for key, value in dict.fromkeys(keys, 0).items()}\n",
    "x"
   ]
  },
  {
   "cell_type": "code",
   "execution_count": 27,
   "metadata": {},
   "outputs": [
    {
     "data": {
      "text/plain": [
       "{10: 'a', 20: 'b', 30: 'c', 40: 'd'}"
      ]
     },
     "execution_count": 27,
     "metadata": {},
     "output_type": "execute_result"
    }
   ],
   "source": [
    "# key-value를 서로 바꿈\n",
    "{value: key for key, value in {'a': 10, 'b': 20, 'c': 30, 'd': 40}.items()}"
   ]
  },
  {
   "cell_type": "code",
   "execution_count": 28,
   "metadata": {},
   "outputs": [
    {
     "ename": "RuntimeError",
     "evalue": "dictionary changed size during iteration",
     "output_type": "error",
     "traceback": [
      "\u001b[1;31m---------------------------------------------------------------------------\u001b[0m",
      "\u001b[1;31mRuntimeError\u001b[0m                              Traceback (most recent call last)",
      "\u001b[1;32m<ipython-input-28-07a9f505cc15>\u001b[0m in \u001b[0;36m<module>\u001b[1;34m\u001b[0m\n\u001b[0;32m      1\u001b[0m \u001b[0mx\u001b[0m \u001b[1;33m=\u001b[0m \u001b[1;33m{\u001b[0m\u001b[1;34m'a'\u001b[0m\u001b[1;33m:\u001b[0m \u001b[1;36m10\u001b[0m\u001b[1;33m,\u001b[0m \u001b[1;34m'b'\u001b[0m\u001b[1;33m:\u001b[0m \u001b[1;36m20\u001b[0m\u001b[1;33m,\u001b[0m \u001b[1;34m'c'\u001b[0m\u001b[1;33m:\u001b[0m \u001b[1;36m30\u001b[0m\u001b[1;33m,\u001b[0m \u001b[1;34m'd'\u001b[0m\u001b[1;33m:\u001b[0m \u001b[1;36m40\u001b[0m\u001b[1;33m}\u001b[0m\u001b[1;33m\u001b[0m\u001b[1;33m\u001b[0m\u001b[0m\n\u001b[1;32m----> 2\u001b[1;33m \u001b[1;32mfor\u001b[0m \u001b[0mkey\u001b[0m\u001b[1;33m,\u001b[0m \u001b[0mvalue\u001b[0m \u001b[1;32min\u001b[0m \u001b[0mx\u001b[0m\u001b[1;33m.\u001b[0m\u001b[0mitems\u001b[0m\u001b[1;33m(\u001b[0m\u001b[1;33m)\u001b[0m\u001b[1;33m:\u001b[0m\u001b[1;33m\u001b[0m\u001b[1;33m\u001b[0m\u001b[0m\n\u001b[0m\u001b[0;32m      3\u001b[0m     \u001b[1;32mif\u001b[0m \u001b[0mvalue\u001b[0m \u001b[1;33m==\u001b[0m \u001b[1;36m20\u001b[0m\u001b[1;33m:\u001b[0m    \u001b[1;31m# 값이 20이면\u001b[0m\u001b[1;33m\u001b[0m\u001b[1;33m\u001b[0m\u001b[0m\n\u001b[0;32m      4\u001b[0m         \u001b[1;32mdel\u001b[0m \u001b[0mx\u001b[0m\u001b[1;33m[\u001b[0m\u001b[0mkey\u001b[0m\u001b[1;33m]\u001b[0m     \u001b[1;31m# 키-값 쌍 삭제\u001b[0m\u001b[1;33m\u001b[0m\u001b[1;33m\u001b[0m\u001b[0m\n\u001b[0;32m      5\u001b[0m \u001b[0mx\u001b[0m\u001b[1;33m\u001b[0m\u001b[1;33m\u001b[0m\u001b[0m\n",
      "\u001b[1;31mRuntimeError\u001b[0m: dictionary changed size during iteration"
     ]
    }
   ],
   "source": [
    "x = {'a': 10, 'b': 20, 'c': 30, 'd': 40}\n",
    "for key, value in x.items():\n",
    "    if value == 20:    # 값이 20이면\n",
    "        del x[key]     # 키-값 쌍 삭제\n",
    "x"
   ]
  },
  {
   "cell_type": "code",
   "execution_count": 29,
   "metadata": {},
   "outputs": [
    {
     "data": {
      "text/plain": [
       "{'a': 10, 'c': 30, 'd': 40}"
      ]
     },
     "execution_count": 29,
     "metadata": {},
     "output_type": "execute_result"
    }
   ],
   "source": [
    "x = {'a': 10, 'b': 20, 'c': 30, 'd': 40}\n",
    "x = {key: value for key, value in x.items() if value != 20}\n",
    "x"
   ]
  },
  {
   "cell_type": "code",
   "execution_count": 30,
   "metadata": {},
   "outputs": [
    {
     "data": {
      "text/plain": [
       "{'a': 10, 'b': 20}"
      ]
     },
     "execution_count": 30,
     "metadata": {},
     "output_type": "execute_result"
    }
   ],
   "source": [
    "# Filtering\n",
    "x = {'a': 10, 'b': 20, 'c': 30, 'd': 40}\n",
    "x = {key: value for key, value in x.items() if value < 25}\n",
    "x"
   ]
  },
  {
   "cell_type": "markdown",
   "metadata": {},
   "source": [
    "### Nested Dictionary"
   ]
  },
  {
   "cell_type": "code",
   "execution_count": 31,
   "metadata": {},
   "outputs": [],
   "source": [
    "terrestrial_planet = {\n",
    "    'Mercury': {\n",
    "        'mean_radius': 2439.7,\n",
    "        'mass': 3.3022E+23,\n",
    "        'orbital_period': 87.969\n",
    "    },\n",
    "    'Venus': {\n",
    "        'mean_radius': 6051.8,\n",
    "        'mass': 4.8676E+24,\n",
    "        'orbital_period': 224.70069,\n",
    "    },\n",
    "    'Earth': {\n",
    "        'mean_radius': 6371.0,\n",
    "        'mass': 5.97219E+24,\n",
    "        'orbital_period': 365.25641,\n",
    "    },\n",
    "    'Mars': {\n",
    "        'mean_radius': 3389.5,\n",
    "        'mass': 6.4185E+23,\n",
    "        'orbital_period': 686.9600,\n",
    "    }\n",
    "}"
   ]
  },
  {
   "cell_type": "code",
   "execution_count": 32,
   "metadata": {},
   "outputs": [
    {
     "name": "stdout",
     "output_type": "stream",
     "text": [
      "6051.8\n"
     ]
    }
   ],
   "source": [
    "print(terrestrial_planet['Venus']['mean_radius'])"
   ]
  },
  {
   "cell_type": "code",
   "execution_count": 33,
   "metadata": {},
   "outputs": [
    {
     "name": "stdout",
     "output_type": "stream",
     "text": [
      "Mercury\n",
      "\tmean_radius:\t2439.7\n",
      "\tmass:\t3.3022e+23\n",
      "\torbital_period:\t87.969\n",
      "Venus\n",
      "\tmean_radius:\t6051.8\n",
      "\tmass:\t4.8676e+24\n",
      "\torbital_period:\t224.70069\n",
      "Earth\n",
      "\tmean_radius:\t6371.0\n",
      "\tmass:\t5.97219e+24\n",
      "\torbital_period:\t365.25641\n",
      "Mars\n",
      "\tmean_radius:\t3389.5\n",
      "\tmass:\t6.4185e+23\n",
      "\torbital_period:\t686.96\n"
     ]
    }
   ],
   "source": [
    "for outer_key, outer_value in terrestrial_planet.items():\n",
    "    print(outer_key)\n",
    "    for inner_key, inner_value in outer_value.items():\n",
    "        print('\\t', inner_key, ':\\t', inner_value, sep='')"
   ]
  },
  {
   "cell_type": "markdown",
   "metadata": {},
   "source": [
    "### 딕셔너리의 할당과 복사"
   ]
  },
  {
   "cell_type": "code",
   "execution_count": 34,
   "metadata": {},
   "outputs": [
    {
     "data": {
      "text/plain": [
       "{'a': 10, 'b': 20, 'c': 30, 'd': 99}"
      ]
     },
     "execution_count": 34,
     "metadata": {},
     "output_type": "execute_result"
    }
   ],
   "source": [
    "x = {'a': 10, 'b': 20, 'c': 30, 'd': 40}\n",
    "y = x\n",
    "y['d'] = 99\n",
    "x"
   ]
  },
  {
   "cell_type": "code",
   "execution_count": 35,
   "metadata": {},
   "outputs": [
    {
     "data": {
      "text/plain": [
       "{'a': 10, 'b': 20, 'c': 30, 'd': 40}"
      ]
     },
     "execution_count": 35,
     "metadata": {},
     "output_type": "execute_result"
    }
   ],
   "source": [
    "x = {'a': 10, 'b': 20, 'c': 30, 'd': 40}\n",
    "y = x.copy()\n",
    "y['d'] = 99\n",
    "x"
   ]
  },
  {
   "cell_type": "code",
   "execution_count": 36,
   "metadata": {},
   "outputs": [
    {
     "data": {
      "text/plain": [
       "{'a': {'python': '2.7.15'}, 'b': {'python': '3.6'}}"
      ]
     },
     "execution_count": 36,
     "metadata": {},
     "output_type": "execute_result"
    }
   ],
   "source": [
    "x = {'a': {'python': '2.7'}, 'b': {'python': '3.6'}}\n",
    "y = x.copy()\n",
    "y['a']['python'] = '2.7.15'\n",
    "x"
   ]
  },
  {
   "cell_type": "code",
   "execution_count": 37,
   "metadata": {},
   "outputs": [
    {
     "data": {
      "text/plain": [
       "{'a': {'python': '2.7'}, 'b': {'python': '3.6'}}"
      ]
     },
     "execution_count": 37,
     "metadata": {},
     "output_type": "execute_result"
    }
   ],
   "source": [
    "x = {'a': {'python': '2.7'}, 'b': {'python': '3.6'}}\n",
    "import copy\n",
    "y = copy.deepcopy(x)\n",
    "y['a']['python'] = '2.7.15'\n",
    "x"
   ]
  },
  {
   "cell_type": "markdown",
   "metadata": {},
   "source": [
    "### Word Count Top 10 연습문제"
   ]
  },
  {
   "cell_type": "code",
   "execution_count": 38,
   "metadata": {},
   "outputs": [],
   "source": [
    "lorem = '''\n",
    "What is Lorem Ipsum?\n",
    "Lorem Ipsum is simply dummy text of the printing and typesetting industry. Lorem Ipsum has been the industry's standard dummy text ever since the 1500s, when an unknown printer took a galley of type and scrambled it to make a type specimen book. It has survived not only five centuries, but also the leap into electronic typesetting, remaining essentially unchanged. It was popularised in the 1960s with the release of Letraset sheets containing Lorem Ipsum passages, and more recently with desktop publishing software like Aldus PageMaker including versions of Lorem Ipsum.\n",
    "\n",
    "Why do we use it?\n",
    "It is a long established fact that a reader will be distracted by the readable content of a page when looking at its layout. The point of using Lorem Ipsum is that it has a more-or-less normal distribution of letters, as opposed to using 'Content here, content here', making it look like readable English. Many desktop publishing packages and web page editors now use Lorem Ipsum as their default model text, and a search for 'lorem ipsum' will uncover many web sites still in their infancy. Various versions have evolved over the years, sometimes by accident, sometimes on purpose (injected humour and the like).\n",
    "\n",
    "Where does it come from?\n",
    "Contrary to popular belief, Lorem Ipsum is not simply random text. It has roots in a piece of classical Latin literature from 45 BC, making it over 2000 years old. Richard McClintock, a Latin professor at Hampden-Sydney College in Virginia, looked up one of the more obscure Latin words, consectetur, from a Lorem Ipsum passage, and going through the cites of the word in classical literature, discovered the undoubtable source. Lorem Ipsum comes from sections 1.10.32 and 1.10.33 of \"de Finibus Bonorum et Malorum\" (The Extremes of Good and Evil) by Cicero, written in 45 BC. This book is a treatise on the theory of ethics, very popular during the Renaissance. The first line of Lorem Ipsum, \"Lorem ipsum dolor sit amet..\", comes from a line in section 1.10.32.\n",
    "\n",
    "The standard chunk of Lorem Ipsum used since the 1500s is reproduced below for those interested. Sections 1.10.32 and 1.10.33 from \"de Finibus Bonorum et Malorum\" by Cicero are also reproduced in their exact original form, accompanied by English versions from the 1914 translation by H. Rackham.\n",
    "\n",
    "Where can I get some?\n",
    "There are many variations of passages of Lorem Ipsum available, but the majority have suffered alteration in some form, by injected humour, or randomised words which don't look even slightly believable. If you are going to use a passage of Lorem Ipsum, you need to be sure there isn't anything embarrassing hidden in the middle of text. All the Lorem Ipsum generators on the Internet tend to repeat predefined chunks as necessary, making this the first true generator on the Internet. It uses a dictionary of over 200 Latin words, combined with a handful of model sentence structures, to generate Lorem Ipsum which looks reasonable. The generated Lorem Ipsum is therefore always free from repetition, injected humour, or non-characteristic words etc.\n",
    "'''"
   ]
  },
  {
   "cell_type": "code",
   "execution_count": 39,
   "metadata": {},
   "outputs": [
    {
     "name": "stdout",
     "output_type": "stream",
     "text": [
      "\n",
      "What is Lorem Ipsum\n",
      "Lorem Ipsum is simply dummy text of the printing and typesetting industry Lorem Ipsum has been the industrys standard dummy text ever since the s when an unknown printer took a galley of type and scrambled it to make a type specimen book It has survived not only five centuries but also the leap into electronic typesetting remaining essentially unchanged It was popularised in the s with the release of Letraset sheets containing Lorem Ipsum passages and more recently with desktop publishing software like Aldus PageMaker including versions of Lorem Ipsum\n",
      "\n",
      "Why do we use it\n",
      "It is a long established fact that a reader will be distracted by the readable content of a page when looking at its layout The point of using Lorem Ipsum is that it has a moreorless normal distribution of letters as opposed to using Content here content here making it look like readable English Many desktop publishing packages and web page editors now use Lorem Ipsum as their default model text and a search for lorem ipsum will uncover many web sites still in their infancy Various versions have evolved over the years sometimes by accident sometimes on purpose injected humour and the like\n",
      "\n",
      "Where does it come from\n",
      "Contrary to popular belief Lorem Ipsum is not simply random text It has roots in a piece of classical Latin literature from  BC making it over  years old Richard McClintock a Latin professor at HampdenSydney College in Virginia looked up one of the more obscure Latin words consectetur from a Lorem Ipsum passage and going through the cites of the word in classical literature discovered the undoubtable source Lorem Ipsum comes from sections  and  of de Finibus Bonorum et Malorum The Extremes of Good and Evil by Cicero written in  BC This book is a treatise on the theory of ethics very popular during the Renaissance The first line of Lorem Ipsum Lorem ipsum dolor sit amet comes from a line in section \n",
      "\n",
      "The standard chunk of Lorem Ipsum used since the s is reproduced below for those interested Sections  and  from de Finibus Bonorum et Malorum by Cicero are also reproduced in their exact original form accompanied by English versions from the  translation by H Rackham\n",
      "\n",
      "Where can I get some\n",
      "There are many variations of passages of Lorem Ipsum available but the majority have suffered alteration in some form by injected humour or randomised words which dont look even slightly believable If you are going to use a passage of Lorem Ipsum you need to be sure there isnt anything embarrassing hidden in the middle of text All the Lorem Ipsum generators on the Internet tend to repeat predefined chunks as necessary making this the first true generator on the Internet It uses a dictionary of over  Latin words combined with a handful of model sentence structures to generate Lorem Ipsum which looks reasonable The generated Lorem Ipsum is therefore always free from repetition injected humour or noncharacteristic words etc\n",
      "\n"
     ]
    }
   ],
   "source": [
    "# 구둣점, 숫자 삭제\n",
    "import re\n",
    "import string\n",
    "lorem = re.sub(f'[{string.punctuation}0-9]', '', lorem, flags=re.MULTILINE)\n",
    "print(lorem)"
   ]
  },
  {
   "cell_type": "code",
   "execution_count": 40,
   "metadata": {},
   "outputs": [],
   "source": [
    "# 소문자로 변경\n",
    "lorem = lorem.lower()\n",
    "#print(lorem)"
   ]
  },
  {
   "cell_type": "code",
   "execution_count": 41,
   "metadata": {},
   "outputs": [
    {
     "name": "stdout",
     "output_type": "stream",
     "text": [
      "['what', 'is', 'lorem', 'ipsum', 'lorem', 'ipsum', 'is', 'simply', 'dummy', 'text', 'of', 'the', 'printing', 'and', 'typesetting', 'industry', 'lorem', 'ipsum', 'has', 'been', 'the', 'industrys', 'standard', 'dummy', 'text', 'ever', 'since', 'the', 's', 'when', 'an', 'unknown', 'printer', 'took', 'a', 'galley', 'of', 'type', 'and', 'scrambled', 'it', 'to', 'make', 'a', 'type', 'specimen', 'book', 'it', 'has', 'survived', 'not', 'only', 'five', 'centuries', 'but', 'also', 'the', 'leap', 'into', 'electronic', 'typesetting', 'remaining', 'essentially', 'unchanged', 'it', 'was', 'popularised', 'in', 'the', 's', 'with', 'the', 'release', 'of', 'letraset', 'sheets', 'containing', 'lorem', 'ipsum', 'passages', 'and', 'more', 'recently', 'with', 'desktop', 'publishing', 'software', 'like', 'aldus', 'pagemaker', 'including', 'versions', 'of', 'lorem', 'ipsum', 'why', 'do', 'we', 'use', 'it', 'it', 'is', 'a', 'long', 'established', 'fact', 'that', 'a', 'reader', 'will', 'be', 'distracted', 'by', 'the', 'readable', 'content', 'of', 'a', 'page', 'when', 'looking', 'at', 'its', 'layout', 'the', 'point', 'of', 'using', 'lorem', 'ipsum', 'is', 'that', 'it', 'has', 'a', 'moreorless', 'normal', 'distribution', 'of', 'letters', 'as', 'opposed', 'to', 'using', 'content', 'here', 'content', 'here', 'making', 'it', 'look', 'like', 'readable', 'english', 'many', 'desktop', 'publishing', 'packages', 'and', 'web', 'page', 'editors', 'now', 'use', 'lorem', 'ipsum', 'as', 'their', 'default', 'model', 'text', 'and', 'a', 'search', 'for', 'lorem', 'ipsum', 'will', 'uncover', 'many', 'web', 'sites', 'still', 'in', 'their', 'infancy', 'various', 'versions', 'have', 'evolved', 'over', 'the', 'years', 'sometimes', 'by', 'accident', 'sometimes', 'on', 'purpose', 'injected', 'humour', 'and', 'the', 'like', 'where', 'does', 'it', 'come', 'from', 'contrary', 'to', 'popular', 'belief', 'lorem', 'ipsum', 'is', 'not', 'simply', 'random', 'text', 'it', 'has', 'roots', 'in', 'a', 'piece', 'of', 'classical', 'latin', 'literature', 'from', 'bc', 'making', 'it', 'over', 'years', 'old', 'richard', 'mcclintock', 'a', 'latin', 'professor', 'at', 'hampdensydney', 'college', 'in', 'virginia', 'looked', 'up', 'one', 'of', 'the', 'more', 'obscure', 'latin', 'words', 'consectetur', 'from', 'a', 'lorem', 'ipsum', 'passage', 'and', 'going', 'through', 'the', 'cites', 'of', 'the', 'word', 'in', 'classical', 'literature', 'discovered', 'the', 'undoubtable', 'source', 'lorem', 'ipsum', 'comes', 'from', 'sections', 'and', 'of', 'de', 'finibus', 'bonorum', 'et', 'malorum', 'the', 'extremes', 'of', 'good', 'and', 'evil', 'by', 'cicero', 'written', 'in', 'bc', 'this', 'book', 'is', 'a', 'treatise', 'on', 'the', 'theory', 'of', 'ethics', 'very', 'popular', 'during', 'the', 'renaissance', 'the', 'first', 'line', 'of', 'lorem', 'ipsum', 'lorem', 'ipsum', 'dolor', 'sit', 'amet', 'comes', 'from', 'a', 'line', 'in', 'section', 'the', 'standard', 'chunk', 'of', 'lorem', 'ipsum', 'used', 'since', 'the', 's', 'is', 'reproduced', 'below', 'for', 'those', 'interested', 'sections', 'and', 'from', 'de', 'finibus', 'bonorum', 'et', 'malorum', 'by', 'cicero', 'are', 'also', 'reproduced', 'in', 'their', 'exact', 'original', 'form', 'accompanied', 'by', 'english', 'versions', 'from', 'the', 'translation', 'by', 'h', 'rackham', 'where', 'can', 'i', 'get', 'some', 'there', 'are', 'many', 'variations', 'of', 'passages', 'of', 'lorem', 'ipsum', 'available', 'but', 'the', 'majority', 'have', 'suffered', 'alteration', 'in', 'some', 'form', 'by', 'injected', 'humour', 'or', 'randomised', 'words', 'which', 'dont', 'look', 'even', 'slightly', 'believable', 'if', 'you', 'are', 'going', 'to', 'use', 'a', 'passage', 'of', 'lorem', 'ipsum', 'you', 'need', 'to', 'be', 'sure', 'there', 'isnt', 'anything', 'embarrassing', 'hidden', 'in', 'the', 'middle', 'of', 'text', 'all', 'the', 'lorem', 'ipsum', 'generators', 'on', 'the', 'internet', 'tend', 'to', 'repeat', 'predefined', 'chunks', 'as', 'necessary', 'making', 'this', 'the', 'first', 'true', 'generator', 'on', 'the', 'internet', 'it', 'uses', 'a', 'dictionary', 'of', 'over', 'latin', 'words', 'combined', 'with', 'a', 'handful', 'of', 'model', 'sentence', 'structures', 'to', 'generate', 'lorem', 'ipsum', 'which', 'looks', 'reasonable', 'the', 'generated', 'lorem', 'ipsum', 'is', 'therefore', 'always', 'free', 'from', 'repetition', 'injected', 'humour', 'or', 'noncharacteristic', 'words', 'etc']\n"
     ]
    }
   ],
   "source": [
    "lorem_list = lorem.split()\n",
    "print(lorem_list)"
   ]
  },
  {
   "cell_type": "code",
   "execution_count": 42,
   "metadata": {},
   "outputs": [
    {
     "name": "stdout",
     "output_type": "stream",
     "text": [
      "{'what': 1, 'is': 8, 'lorem': 19, 'ipsum': 19, 'simply': 2, 'dummy': 2, 'text': 5, 'of': 21, 'the': 28, 'printing': 1, 'and': 10, 'typesetting': 2, 'industry': 1, 'has': 4, 'been': 1, 'industrys': 1, 'standard': 2, 'ever': 1, 'since': 2, 's': 3, 'when': 2, 'an': 1, 'unknown': 1, 'printer': 1, 'took': 1, 'a': 15, 'galley': 1, 'type': 2, 'scrambled': 1, 'it': 11, 'to': 7, 'make': 1, 'specimen': 1, 'book': 2, 'survived': 1, 'not': 2, 'only': 1, 'five': 1, 'centuries': 1, 'but': 2, 'also': 2, 'leap': 1, 'into': 1, 'electronic': 1, 'remaining': 1, 'essentially': 1, 'unchanged': 1, 'was': 1, 'popularised': 1, 'in': 10, 'with': 3, 'release': 1, 'letraset': 1, 'sheets': 1, 'containing': 1, 'passages': 2, 'more': 2, 'recently': 1, 'desktop': 2, 'publishing': 2, 'software': 1, 'like': 3, 'aldus': 1, 'pagemaker': 1, 'including': 1, 'versions': 3, 'why': 1, 'do': 1, 'we': 1, 'use': 3, 'long': 1, 'established': 1, 'fact': 1, 'that': 2, 'reader': 1, 'will': 2, 'be': 2, 'distracted': 1, 'by': 7, 'readable': 2, 'content': 3, 'page': 2, 'looking': 1, 'at': 2, 'its': 1, 'layout': 1, 'point': 1, 'using': 2, 'moreorless': 1, 'normal': 1, 'distribution': 1, 'letters': 1, 'as': 3, 'opposed': 1, 'here': 2, 'making': 3, 'look': 2, 'english': 2, 'many': 3, 'packages': 1, 'web': 2, 'editors': 1, 'now': 1, 'their': 3, 'default': 1, 'model': 2, 'search': 1, 'for': 2, 'uncover': 1, 'sites': 1, 'still': 1, 'infancy': 1, 'various': 1, 'have': 2, 'evolved': 1, 'over': 3, 'years': 2, 'sometimes': 2, 'accident': 1, 'on': 4, 'purpose': 1, 'injected': 3, 'humour': 3, 'where': 2, 'does': 1, 'come': 1, 'from': 8, 'contrary': 1, 'popular': 2, 'belief': 1, 'random': 1, 'roots': 1, 'piece': 1, 'classical': 2, 'latin': 4, 'literature': 2, 'bc': 2, 'old': 1, 'richard': 1, 'mcclintock': 1, 'professor': 1, 'hampdensydney': 1, 'college': 1, 'virginia': 1, 'looked': 1, 'up': 1, 'one': 1, 'obscure': 1, 'words': 4, 'consectetur': 1, 'passage': 2, 'going': 2, 'through': 1, 'cites': 1, 'word': 1, 'discovered': 1, 'undoubtable': 1, 'source': 1, 'comes': 2, 'sections': 2, 'de': 2, 'finibus': 2, 'bonorum': 2, 'et': 2, 'malorum': 2, 'extremes': 1, 'good': 1, 'evil': 1, 'cicero': 2, 'written': 1, 'this': 2, 'treatise': 1, 'theory': 1, 'ethics': 1, 'very': 1, 'during': 1, 'renaissance': 1, 'first': 2, 'line': 2, 'dolor': 1, 'sit': 1, 'amet': 1, 'section': 1, 'chunk': 1, 'used': 1, 'reproduced': 2, 'below': 1, 'those': 1, 'interested': 1, 'are': 3, 'exact': 1, 'original': 1, 'form': 2, 'accompanied': 1, 'translation': 1, 'h': 1, 'rackham': 1, 'can': 1, 'i': 1, 'get': 1, 'some': 2, 'there': 2, 'variations': 1, 'available': 1, 'majority': 1, 'suffered': 1, 'alteration': 1, 'or': 2, 'randomised': 1, 'which': 2, 'dont': 1, 'even': 1, 'slightly': 1, 'believable': 1, 'if': 1, 'you': 2, 'need': 1, 'sure': 1, 'isnt': 1, 'anything': 1, 'embarrassing': 1, 'hidden': 1, 'middle': 1, 'all': 1, 'generators': 1, 'internet': 2, 'tend': 1, 'repeat': 1, 'predefined': 1, 'chunks': 1, 'necessary': 1, 'true': 1, 'generator': 1, 'uses': 1, 'dictionary': 1, 'combined': 1, 'handful': 1, 'sentence': 1, 'structures': 1, 'generate': 1, 'looks': 1, 'reasonable': 1, 'generated': 1, 'therefore': 1, 'always': 1, 'free': 1, 'repetition': 1, 'noncharacteristic': 1, 'etc': 1}\n"
     ]
    }
   ],
   "source": [
    "word_dict = {}\n",
    "for word in lorem_list:\n",
    "    if word in word_dict.keys():\n",
    "        word_dict[word] += 1\n",
    "    else:\n",
    "        word_dict.update({word: 1})\n",
    "print(word_dict)"
   ]
  },
  {
   "cell_type": "code",
   "execution_count": 43,
   "metadata": {},
   "outputs": [
    {
     "name": "stdout",
     "output_type": "stream",
     "text": [
      "['the', 'of', 'lorem', 'ipsum', 'a', 'it', 'and', 'in', 'is', 'from', 'to', 'by', 'text', 'has', 'on', 'latin', 'words', 's', 'with', 'like', 'versions', 'use', 'content', 'as', 'making', 'many', 'their', 'over', 'injected', 'humour', 'are', 'simply', 'dummy', 'typesetting', 'standard', 'since', 'when', 'type', 'book', 'not', 'but', 'also', 'passages', 'more', 'desktop', 'publishing', 'that', 'will', 'be', 'readable', 'page', 'at', 'using', 'here', 'look', 'english', 'web', 'model', 'for', 'have', 'years', 'sometimes', 'where', 'popular', 'classical', 'literature', 'bc', 'passage', 'going', 'comes', 'sections', 'de', 'finibus', 'bonorum', 'et', 'malorum', 'cicero', 'this', 'first', 'line', 'reproduced', 'form', 'some', 'there', 'or', 'which', 'you', 'internet', 'what', 'printing', 'industry', 'been', 'industrys', 'ever', 'an', 'unknown', 'printer', 'took', 'galley', 'scrambled', 'make', 'specimen', 'survived', 'only', 'five', 'centuries', 'leap', 'into', 'electronic', 'remaining', 'essentially', 'unchanged', 'was', 'popularised', 'release', 'letraset', 'sheets', 'containing', 'recently', 'software', 'aldus', 'pagemaker', 'including', 'why', 'do', 'we', 'long', 'established', 'fact', 'reader', 'distracted', 'looking', 'its', 'layout', 'point', 'moreorless', 'normal', 'distribution', 'letters', 'opposed', 'packages', 'editors', 'now', 'default', 'search', 'uncover', 'sites', 'still', 'infancy', 'various', 'evolved', 'accident', 'purpose', 'does', 'come', 'contrary', 'belief', 'random', 'roots', 'piece', 'old', 'richard', 'mcclintock', 'professor', 'hampdensydney', 'college', 'virginia', 'looked', 'up', 'one', 'obscure', 'consectetur', 'through', 'cites', 'word', 'discovered', 'undoubtable', 'source', 'extremes', 'good', 'evil', 'written', 'treatise', 'theory', 'ethics', 'very', 'during', 'renaissance', 'dolor', 'sit', 'amet', 'section', 'chunk', 'used', 'below', 'those', 'interested', 'exact', 'original', 'accompanied', 'translation', 'h', 'rackham', 'can', 'i', 'get', 'variations', 'available', 'majority', 'suffered', 'alteration', 'randomised', 'dont', 'even', 'slightly', 'believable', 'if', 'need', 'sure', 'isnt', 'anything', 'embarrassing', 'hidden', 'middle', 'all', 'generators', 'tend', 'repeat', 'predefined', 'chunks', 'necessary', 'true', 'generator', 'uses', 'dictionary', 'combined', 'handful', 'sentence', 'structures', 'generate', 'looks', 'reasonable', 'generated', 'therefore', 'always', 'free', 'repetition', 'noncharacteristic', 'etc']\n"
     ]
    }
   ],
   "source": [
    "sorted_words = sorted(word_dict, key=lambda k : word_dict[k], reverse=True)\n",
    "print(sorted_words)"
   ]
  },
  {
   "cell_type": "code",
   "execution_count": 44,
   "metadata": {},
   "outputs": [
    {
     "name": "stdout",
     "output_type": "stream",
     "text": [
      "the 28\n",
      "of 21\n",
      "lorem 19\n",
      "ipsum 19\n",
      "a 15\n",
      "it 11\n",
      "and 10\n",
      "in 10\n",
      "is 8\n",
      "from 8\n"
     ]
    }
   ],
   "source": [
    "for index, value in enumerate(sorted_words):\n",
    "    if index == 10:\n",
    "        break;\n",
    "    print(value, word_dict[value])"
   ]
  },
  {
   "cell_type": "markdown",
   "metadata": {},
   "source": [
    "### 파일로부터 읽어서 Word counting"
   ]
  },
  {
   "cell_type": "code",
   "execution_count": 45,
   "metadata": {},
   "outputs": [],
   "source": [
    "with open('c:/temp/lorem.txt', 'r') as file:    # hello.txt 파일을 읽기 모드(r)로 열기\n",
    "    line_list = file.readlines()\n",
    "lines = ' '.join(line_list)\n",
    "lines = lines.lower()\n",
    "#print(lines)"
   ]
  },
  {
   "cell_type": "code",
   "execution_count": 46,
   "metadata": {},
   "outputs": [],
   "source": [
    "import re\n",
    "import string\n",
    "lines = re.sub(f'[{string.punctuation}0-9]', '', lines, flags=re.MULTILINE)\n",
    "#print(lines)"
   ]
  },
  {
   "cell_type": "code",
   "execution_count": 47,
   "metadata": {},
   "outputs": [],
   "source": [
    "words_list = lines.split()\n",
    "#print(words_list)"
   ]
  },
  {
   "cell_type": "code",
   "execution_count": 48,
   "metadata": {},
   "outputs": [
    {
     "name": "stdout",
     "output_type": "stream",
     "text": [
      "{'what': 1, 'is': 8, 'lorem': 19, 'ipsum': 19, 'simply': 2, 'dummy': 2, 'text': 5, 'of': 21, 'the': 28, 'printing': 1, 'and': 10, 'typesetting': 2, 'industry': 1, 'has': 4, 'been': 1, 'industrys': 1, 'standard': 2, 'ever': 1, 'since': 2, 's': 3, 'when': 2, 'an': 1, 'unknown': 1, 'printer': 1, 'took': 1, 'a': 15, 'galley': 1, 'type': 2, 'scrambled': 1, 'it': 11, 'to': 7, 'make': 1, 'specimen': 1, 'book': 2, 'survived': 1, 'not': 2, 'only': 1, 'five': 1, 'centuries': 1, 'but': 2, 'also': 2, 'leap': 1, 'into': 1, 'electronic': 1, 'remaining': 1, 'essentially': 1, 'unchanged': 1, 'was': 1, 'popularised': 1, 'in': 10, 'with': 3, 'release': 1, 'letraset': 1, 'sheets': 1, 'containing': 1, 'passages': 2, 'more': 2, 'recently': 1, 'desktop': 2, 'publishing': 2, 'software': 1, 'like': 3, 'aldus': 1, 'pagemaker': 1, 'including': 1, 'versions': 3, 'why': 1, 'do': 1, 'we': 1, 'use': 3, 'long': 1, 'established': 1, 'fact': 1, 'that': 2, 'reader': 1, 'will': 2, 'be': 2, 'distracted': 1, 'by': 7, 'readable': 2, 'content': 3, 'page': 2, 'looking': 1, 'at': 2, 'its': 1, 'layout': 1, 'point': 1, 'using': 2, 'moreorless': 1, 'normal': 1, 'distribution': 1, 'letters': 1, 'as': 3, 'opposed': 1, 'here': 2, 'making': 3, 'look': 2, 'english': 2, 'many': 3, 'packages': 1, 'web': 2, 'editors': 1, 'now': 1, 'their': 3, 'default': 1, 'model': 2, 'search': 1, 'for': 2, 'uncover': 1, 'sites': 1, 'still': 1, 'infancy': 1, 'various': 1, 'have': 2, 'evolved': 1, 'over': 3, 'years': 2, 'sometimes': 2, 'accident': 1, 'on': 4, 'purpose': 1, 'injected': 3, 'humour': 3, 'where': 2, 'does': 1, 'come': 1, 'from': 8, 'contrary': 1, 'popular': 2, 'belief': 1, 'random': 1, 'roots': 1, 'piece': 1, 'classical': 2, 'latin': 4, 'literature': 2, 'bc': 2, 'old': 1, 'richard': 1, 'mcclintock': 1, 'professor': 1, 'hampdensydney': 1, 'college': 1, 'virginia': 1, 'looked': 1, 'up': 1, 'one': 1, 'obscure': 1, 'words': 4, 'consectetur': 1, 'passage': 2, 'going': 2, 'through': 1, 'cites': 1, 'word': 1, 'discovered': 1, 'undoubtable': 1, 'source': 1, 'comes': 2, 'sections': 2, 'de': 2, 'finibus': 2, 'bonorum': 2, 'et': 2, 'malorum': 2, 'extremes': 1, 'good': 1, 'evil': 1, 'cicero': 2, 'written': 1, 'this': 2, 'treatise': 1, 'theory': 1, 'ethics': 1, 'very': 1, 'during': 1, 'renaissance': 1, 'first': 2, 'line': 2, 'dolor': 1, 'sit': 1, 'amet': 1, 'section': 1, 'chunk': 1, 'used': 1, 'reproduced': 2, 'below': 1, 'those': 1, 'interested': 1, 'are': 3, 'exact': 1, 'original': 1, 'form': 2, 'accompanied': 1, 'translation': 1, 'h': 1, 'rackham': 1, 'can': 1, 'i': 1, 'get': 1, 'some': 2, 'there': 2, 'variations': 1, 'available': 1, 'majority': 1, 'suffered': 1, 'alteration': 1, 'or': 2, 'randomised': 1, 'which': 2, 'dont': 1, 'even': 1, 'slightly': 1, 'believable': 1, 'if': 1, 'you': 2, 'need': 1, 'sure': 1, 'isnt': 1, 'anything': 1, 'embarrassing': 1, 'hidden': 1, 'middle': 1, 'all': 1, 'generators': 1, 'internet': 2, 'tend': 1, 'repeat': 1, 'predefined': 1, 'chunks': 1, 'necessary': 1, 'true': 1, 'generator': 1, 'uses': 1, 'dictionary': 1, 'combined': 1, 'handful': 1, 'sentence': 1, 'structures': 1, 'generate': 1, 'looks': 1, 'reasonable': 1, 'generated': 1, 'therefore': 1, 'always': 1, 'free': 1, 'repetition': 1, 'noncharacteristic': 1, 'etc': 1}\n"
     ]
    }
   ],
   "source": [
    "word_dict = {}\n",
    "for word in words_list:\n",
    "    if word in word_dict.keys():\n",
    "        word_dict[word] += 1\n",
    "    else:\n",
    "        word_dict.update({word: 1})\n",
    "print(word_dict)"
   ]
  },
  {
   "cell_type": "code",
   "execution_count": 49,
   "metadata": {},
   "outputs": [
    {
     "name": "stdout",
     "output_type": "stream",
     "text": [
      "['the', 'of', 'lorem', 'ipsum', 'a', 'it', 'and', 'in', 'is', 'from', 'to', 'by', 'text', 'has', 'on', 'latin', 'words', 's', 'with', 'like', 'versions', 'use', 'content', 'as', 'making', 'many', 'their', 'over', 'injected', 'humour', 'are', 'simply', 'dummy', 'typesetting', 'standard', 'since', 'when', 'type', 'book', 'not', 'but', 'also', 'passages', 'more', 'desktop', 'publishing', 'that', 'will', 'be', 'readable', 'page', 'at', 'using', 'here', 'look', 'english', 'web', 'model', 'for', 'have', 'years', 'sometimes', 'where', 'popular', 'classical', 'literature', 'bc', 'passage', 'going', 'comes', 'sections', 'de', 'finibus', 'bonorum', 'et', 'malorum', 'cicero', 'this', 'first', 'line', 'reproduced', 'form', 'some', 'there', 'or', 'which', 'you', 'internet', 'what', 'printing', 'industry', 'been', 'industrys', 'ever', 'an', 'unknown', 'printer', 'took', 'galley', 'scrambled', 'make', 'specimen', 'survived', 'only', 'five', 'centuries', 'leap', 'into', 'electronic', 'remaining', 'essentially', 'unchanged', 'was', 'popularised', 'release', 'letraset', 'sheets', 'containing', 'recently', 'software', 'aldus', 'pagemaker', 'including', 'why', 'do', 'we', 'long', 'established', 'fact', 'reader', 'distracted', 'looking', 'its', 'layout', 'point', 'moreorless', 'normal', 'distribution', 'letters', 'opposed', 'packages', 'editors', 'now', 'default', 'search', 'uncover', 'sites', 'still', 'infancy', 'various', 'evolved', 'accident', 'purpose', 'does', 'come', 'contrary', 'belief', 'random', 'roots', 'piece', 'old', 'richard', 'mcclintock', 'professor', 'hampdensydney', 'college', 'virginia', 'looked', 'up', 'one', 'obscure', 'consectetur', 'through', 'cites', 'word', 'discovered', 'undoubtable', 'source', 'extremes', 'good', 'evil', 'written', 'treatise', 'theory', 'ethics', 'very', 'during', 'renaissance', 'dolor', 'sit', 'amet', 'section', 'chunk', 'used', 'below', 'those', 'interested', 'exact', 'original', 'accompanied', 'translation', 'h', 'rackham', 'can', 'i', 'get', 'variations', 'available', 'majority', 'suffered', 'alteration', 'randomised', 'dont', 'even', 'slightly', 'believable', 'if', 'need', 'sure', 'isnt', 'anything', 'embarrassing', 'hidden', 'middle', 'all', 'generators', 'tend', 'repeat', 'predefined', 'chunks', 'necessary', 'true', 'generator', 'uses', 'dictionary', 'combined', 'handful', 'sentence', 'structures', 'generate', 'looks', 'reasonable', 'generated', 'therefore', 'always', 'free', 'repetition', 'noncharacteristic', 'etc']\n"
     ]
    }
   ],
   "source": [
    "sorted_words = sorted(word_dict, key=lambda k : word_dict[k], reverse=True)\n",
    "print(sorted_words)"
   ]
  },
  {
   "cell_type": "code",
   "execution_count": 50,
   "metadata": {},
   "outputs": [
    {
     "name": "stdout",
     "output_type": "stream",
     "text": [
      "the 28\n",
      "of 21\n",
      "lorem 19\n",
      "ipsum 19\n",
      "a 15\n",
      "it 11\n",
      "and 10\n",
      "in 10\n",
      "is 8\n",
      "from 8\n"
     ]
    }
   ],
   "source": [
    "for index, value in enumerate(sorted_words):\n",
    "    if index == 10:\n",
    "        break;\n",
    "    print(value, word_dict[value])"
   ]
  },
  {
   "cell_type": "code",
   "execution_count": null,
   "metadata": {},
   "outputs": [],
   "source": []
  }
 ],
 "metadata": {
  "kernelspec": {
   "display_name": "Python 3",
   "language": "python",
   "name": "python3"
  },
  "language_info": {
   "codemirror_mode": {
    "name": "ipython",
    "version": 3
   },
   "file_extension": ".py",
   "mimetype": "text/x-python",
   "name": "python",
   "nbconvert_exporter": "python",
   "pygments_lexer": "ipython3",
   "version": "3.8.3"
  }
 },
 "nbformat": 4,
 "nbformat_minor": 4
}
