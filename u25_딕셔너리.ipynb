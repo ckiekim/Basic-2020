{
 "cells": [
  {
   "cell_type": "markdown",
   "metadata": {},
   "source": [
    "# Unit 25. 딕셔너리 응용하기"
   ]
  },
  {
   "cell_type": "code",
   "execution_count": 1,
   "metadata": {},
   "outputs": [
    {
     "data": {
      "text/plain": [
       "{'a': 10, 'b': 20, 'c': 30, 'd': 40, 'e': None}"
      ]
     },
     "execution_count": 1,
     "metadata": {},
     "output_type": "execute_result"
    }
   ],
   "source": [
    "x = {'a': 10, 'b': 20, 'c': 30, 'd': 40}\n",
    "x.setdefault('e')\n",
    "x"
   ]
  },
  {
   "cell_type": "code",
   "execution_count": 2,
   "metadata": {},
   "outputs": [
    {
     "data": {
      "text/plain": [
       "{'a': 10, 'b': 20, 'c': 30, 'd': 40, 'e': None, 'f': 100}"
      ]
     },
     "execution_count": 2,
     "metadata": {},
     "output_type": "execute_result"
    }
   ],
   "source": [
    "x.setdefault('f', 100)\n",
    "x"
   ]
  },
  {
   "cell_type": "code",
   "execution_count": 3,
   "metadata": {},
   "outputs": [
    {
     "data": {
      "text/plain": [
       "{'a': 10, 'b': 20, 'c': 30, 'd': 40, 'e': 50, 'f': 100}"
      ]
     },
     "execution_count": 3,
     "metadata": {},
     "output_type": "execute_result"
    }
   ],
   "source": [
    "# 값을 변경 또는 추가\n",
    "x.update(e=50)\n",
    "x"
   ]
  },
  {
   "cell_type": "code",
   "execution_count": 4,
   "metadata": {},
   "outputs": [
    {
     "data": {
      "text/plain": [
       "{'a': 900, 'b': 20, 'c': 30, 'd': 40, 'e': 50, 'f': 60}"
      ]
     },
     "execution_count": 4,
     "metadata": {},
     "output_type": "execute_result"
    }
   ],
   "source": [
    "x.update(a=900, f=60)\n",
    "x"
   ]
  },
  {
   "cell_type": "code",
   "execution_count": 5,
   "metadata": {},
   "outputs": [
    {
     "data": {
      "text/plain": [
       "{1: 'ONE', 2: 'two', 3: 'THREE'}"
      ]
     },
     "execution_count": 5,
     "metadata": {},
     "output_type": "execute_result"
    }
   ],
   "source": [
    "y = {1: 'one', 2: 'two'}\n",
    "y.update({1: 'ONE', 3: 'THREE'})\n",
    "y"
   ]
  },
  {
   "cell_type": "code",
   "execution_count": 6,
   "metadata": {},
   "outputs": [
    {
     "data": {
      "text/plain": [
       "{1: 'ONE', 2: 'TWO', 3: 'THREE', 4: 'FOUR'}"
      ]
     },
     "execution_count": 6,
     "metadata": {},
     "output_type": "execute_result"
    }
   ],
   "source": [
    "y.update([[2, 'TWO'], [4, 'FOUR']])\n",
    "y"
   ]
  },
  {
   "cell_type": "code",
   "execution_count": 7,
   "metadata": {},
   "outputs": [
    {
     "data": {
      "text/plain": [
       "{1: 'one', 2: 'two', 3: 'THREE', 4: 'FOUR'}"
      ]
     },
     "execution_count": 7,
     "metadata": {},
     "output_type": "execute_result"
    }
   ],
   "source": [
    "y.update(zip([1, 2], ['one', 'two']))\n",
    "y"
   ]
  },
  {
   "cell_type": "code",
   "execution_count": 9,
   "metadata": {},
   "outputs": [
    {
     "data": {
      "text/plain": [
       "({'b': 20, 'c': 30, 'd': 40}, 10)"
      ]
     },
     "execution_count": 9,
     "metadata": {},
     "output_type": "execute_result"
    }
   ],
   "source": [
    "# 엘리먼트 삭제\n",
    "x = {'a': 10, 'b': 20, 'c': 30, 'd': 40}\n",
    "z = x.pop('a')\n",
    "x, z"
   ]
  },
  {
   "cell_type": "code",
   "execution_count": 10,
   "metadata": {},
   "outputs": [
    {
     "data": {
      "text/plain": [
       "20"
      ]
     },
     "execution_count": 10,
     "metadata": {},
     "output_type": "execute_result"
    }
   ],
   "source": [
    "z = x.pop('b', 0)\n",
    "z"
   ]
  },
  {
   "cell_type": "code",
   "execution_count": 11,
   "metadata": {},
   "outputs": [
    {
     "data": {
      "text/plain": [
       "0"
      ]
     },
     "execution_count": 11,
     "metadata": {},
     "output_type": "execute_result"
    }
   ],
   "source": [
    "z = x.pop('z', 0)\n",
    "z"
   ]
  },
  {
   "cell_type": "code",
   "execution_count": 12,
   "metadata": {},
   "outputs": [
    {
     "data": {
      "text/plain": [
       "{'d': 40}"
      ]
     },
     "execution_count": 12,
     "metadata": {},
     "output_type": "execute_result"
    }
   ],
   "source": [
    "del x['c']\n",
    "x"
   ]
  },
  {
   "cell_type": "code",
   "execution_count": 13,
   "metadata": {},
   "outputs": [
    {
     "data": {
      "text/plain": [
       "('d', 40)"
      ]
     },
     "execution_count": 13,
     "metadata": {},
     "output_type": "execute_result"
    }
   ],
   "source": [
    "x = {'a': 10, 'b': 20, 'c': 30, 'd': 40}\n",
    "x.popitem()"
   ]
  },
  {
   "cell_type": "code",
   "execution_count": 14,
   "metadata": {},
   "outputs": [
    {
     "data": {
      "text/plain": [
       "('c', 30)"
      ]
     },
     "execution_count": 14,
     "metadata": {},
     "output_type": "execute_result"
    }
   ],
   "source": [
    "x.popitem()"
   ]
  },
  {
   "cell_type": "code",
   "execution_count": 15,
   "metadata": {},
   "outputs": [
    {
     "data": {
      "text/plain": [
       "{}"
      ]
     },
     "execution_count": 15,
     "metadata": {},
     "output_type": "execute_result"
    }
   ],
   "source": [
    "x = {'a': 10, 'b': 20, 'c': 30, 'd': 40}\n",
    "x.clear()\n",
    "x"
   ]
  },
  {
   "cell_type": "code",
   "execution_count": 19,
   "metadata": {},
   "outputs": [
    {
     "data": {
      "text/plain": [
       "10"
      ]
     },
     "execution_count": 19,
     "metadata": {},
     "output_type": "execute_result"
    }
   ],
   "source": [
    "# x['a']\n",
    "x = {'a': 10, 'b': 20, 'c': 30, 'd': 40}\n",
    "x.get('a')"
   ]
  },
  {
   "cell_type": "markdown",
   "metadata": {},
   "source": [
    "### 딕셔너리에서 키-값 쌍을 모두 가져오기"
   ]
  },
  {
   "cell_type": "code",
   "execution_count": 20,
   "metadata": {},
   "outputs": [
    {
     "data": {
      "text/plain": [
       "dict_items([('a', 10), ('b', 20), ('c', 30), ('d', 40)])"
      ]
     },
     "execution_count": 20,
     "metadata": {},
     "output_type": "execute_result"
    }
   ],
   "source": [
    "x = {'a': 10, 'b': 20, 'c': 30, 'd': 40}\n",
    "x.items()"
   ]
  },
  {
   "cell_type": "code",
   "execution_count": 21,
   "metadata": {},
   "outputs": [
    {
     "name": "stdout",
     "output_type": "stream",
     "text": [
      "a 10\n",
      "b 20\n",
      "c 30\n",
      "d 40\n"
     ]
    }
   ],
   "source": [
    "for key, value in x.items():\n",
    "    print(key, value)"
   ]
  },
  {
   "cell_type": "code",
   "execution_count": 22,
   "metadata": {},
   "outputs": [
    {
     "data": {
      "text/plain": [
       "dict_keys(['a', 'b', 'c', 'd'])"
      ]
     },
     "execution_count": 22,
     "metadata": {},
     "output_type": "execute_result"
    }
   ],
   "source": [
    "x.keys()"
   ]
  },
  {
   "cell_type": "code",
   "execution_count": 23,
   "metadata": {},
   "outputs": [
    {
     "data": {
      "text/plain": [
       "dict_values([10, 20, 30, 40])"
      ]
     },
     "execution_count": 23,
     "metadata": {},
     "output_type": "execute_result"
    }
   ],
   "source": [
    "x.values()"
   ]
  },
  {
   "cell_type": "code",
   "execution_count": 24,
   "metadata": {},
   "outputs": [
    {
     "name": "stdout",
     "output_type": "stream",
     "text": [
      "a 10\n",
      "b 20\n",
      "c 30\n",
      "d 40\n"
     ]
    }
   ],
   "source": [
    "for key in x.keys():\n",
    "    print(key, x[key])"
   ]
  },
  {
   "cell_type": "markdown",
   "metadata": {},
   "source": [
    "### 리스트와 튜플로 딕셔너리 만들기"
   ]
  },
  {
   "cell_type": "code",
   "execution_count": 25,
   "metadata": {},
   "outputs": [
    {
     "data": {
      "text/plain": [
       "{'a': None, 'b': None, 'c': None, 'd': None}"
      ]
     },
     "execution_count": 25,
     "metadata": {},
     "output_type": "execute_result"
    }
   ],
   "source": [
    "keys = ['a', 'b', 'c', 'd']\n",
    "x = dict.fromkeys(keys)\n",
    "x"
   ]
  },
  {
   "cell_type": "code",
   "execution_count": 26,
   "metadata": {},
   "outputs": [
    {
     "data": {
      "text/plain": [
       "{'a': 100, 'b': 100, 'c': 100, 'd': 100}"
      ]
     },
     "execution_count": 26,
     "metadata": {},
     "output_type": "execute_result"
    }
   ],
   "source": [
    "y = dict.fromkeys(keys, 100)\n",
    "y"
   ]
  },
  {
   "cell_type": "markdown",
   "metadata": {},
   "source": [
    "### 딕셔너리와 for 반복문"
   ]
  },
  {
   "cell_type": "code",
   "execution_count": 27,
   "metadata": {},
   "outputs": [
    {
     "name": "stdout",
     "output_type": "stream",
     "text": [
      "a 10\n",
      "b 20\n",
      "c 30\n",
      "d 40\n"
     ]
    }
   ],
   "source": [
    "x = {'a': 10, 'b': 20, 'c': 30, 'd': 40}\n",
    "for key, value in x.items():\n",
    "    print(key, value)"
   ]
  },
  {
   "cell_type": "code",
   "execution_count": 29,
   "metadata": {},
   "outputs": [
    {
     "name": "stdout",
     "output_type": "stream",
     "text": [
      "a 10\n",
      "b 20\n",
      "c 30\n",
      "d 40\n"
     ]
    }
   ],
   "source": [
    "for key in x.keys():\n",
    "    print(key, x.get(key))"
   ]
  },
  {
   "cell_type": "code",
   "execution_count": 30,
   "metadata": {},
   "outputs": [
    {
     "name": "stdout",
     "output_type": "stream",
     "text": [
      "10\n",
      "20\n",
      "30\n",
      "40\n"
     ]
    }
   ],
   "source": [
    "for value in x.values():\n",
    "    print(value)"
   ]
  },
  {
   "cell_type": "markdown",
   "metadata": {},
   "source": [
    "### 딕셔너리 표현식"
   ]
  },
  {
   "cell_type": "code",
   "execution_count": 32,
   "metadata": {},
   "outputs": [
    {
     "data": {
      "text/plain": [
       "{'a': 0, 'b': 0, 'c': 0, 'd': 0}"
      ]
     },
     "execution_count": 32,
     "metadata": {},
     "output_type": "execute_result"
    }
   ],
   "source": [
    "keys = ['a', 'b', 'c', 'd']\n",
    "x = {key: value for key, value in dict.fromkeys(keys, 0).items()}\n",
    "x"
   ]
  },
  {
   "cell_type": "code",
   "execution_count": 34,
   "metadata": {},
   "outputs": [
    {
     "data": {
      "text/plain": [
       "{10: 'a', 20: 'b', 30: 'c', 40: 'd'}"
      ]
     },
     "execution_count": 34,
     "metadata": {},
     "output_type": "execute_result"
    }
   ],
   "source": [
    "# key-value를 서로 바꿈\n",
    "{value: key for key, value in {'a': 10, 'b': 20, 'c': 30, 'd': 40}.items()}"
   ]
  },
  {
   "cell_type": "code",
   "execution_count": 35,
   "metadata": {},
   "outputs": [
    {
     "ename": "RuntimeError",
     "evalue": "dictionary changed size during iteration",
     "output_type": "error",
     "traceback": [
      "\u001b[1;31m---------------------------------------------------------------------------\u001b[0m",
      "\u001b[1;31mRuntimeError\u001b[0m                              Traceback (most recent call last)",
      "\u001b[1;32m<ipython-input-35-07a9f505cc15>\u001b[0m in \u001b[0;36m<module>\u001b[1;34m\u001b[0m\n\u001b[0;32m      1\u001b[0m \u001b[0mx\u001b[0m \u001b[1;33m=\u001b[0m \u001b[1;33m{\u001b[0m\u001b[1;34m'a'\u001b[0m\u001b[1;33m:\u001b[0m \u001b[1;36m10\u001b[0m\u001b[1;33m,\u001b[0m \u001b[1;34m'b'\u001b[0m\u001b[1;33m:\u001b[0m \u001b[1;36m20\u001b[0m\u001b[1;33m,\u001b[0m \u001b[1;34m'c'\u001b[0m\u001b[1;33m:\u001b[0m \u001b[1;36m30\u001b[0m\u001b[1;33m,\u001b[0m \u001b[1;34m'd'\u001b[0m\u001b[1;33m:\u001b[0m \u001b[1;36m40\u001b[0m\u001b[1;33m}\u001b[0m\u001b[1;33m\u001b[0m\u001b[1;33m\u001b[0m\u001b[0m\n\u001b[1;32m----> 2\u001b[1;33m \u001b[1;32mfor\u001b[0m \u001b[0mkey\u001b[0m\u001b[1;33m,\u001b[0m \u001b[0mvalue\u001b[0m \u001b[1;32min\u001b[0m \u001b[0mx\u001b[0m\u001b[1;33m.\u001b[0m\u001b[0mitems\u001b[0m\u001b[1;33m(\u001b[0m\u001b[1;33m)\u001b[0m\u001b[1;33m:\u001b[0m\u001b[1;33m\u001b[0m\u001b[1;33m\u001b[0m\u001b[0m\n\u001b[0m\u001b[0;32m      3\u001b[0m     \u001b[1;32mif\u001b[0m \u001b[0mvalue\u001b[0m \u001b[1;33m==\u001b[0m \u001b[1;36m20\u001b[0m\u001b[1;33m:\u001b[0m    \u001b[1;31m# 값이 20이면\u001b[0m\u001b[1;33m\u001b[0m\u001b[1;33m\u001b[0m\u001b[0m\n\u001b[0;32m      4\u001b[0m         \u001b[1;32mdel\u001b[0m \u001b[0mx\u001b[0m\u001b[1;33m[\u001b[0m\u001b[0mkey\u001b[0m\u001b[1;33m]\u001b[0m     \u001b[1;31m# 키-값 쌍 삭제\u001b[0m\u001b[1;33m\u001b[0m\u001b[1;33m\u001b[0m\u001b[0m\n\u001b[0;32m      5\u001b[0m \u001b[0mx\u001b[0m\u001b[1;33m\u001b[0m\u001b[1;33m\u001b[0m\u001b[0m\n",
      "\u001b[1;31mRuntimeError\u001b[0m: dictionary changed size during iteration"
     ]
    }
   ],
   "source": [
    "x = {'a': 10, 'b': 20, 'c': 30, 'd': 40}\n",
    "for key, value in x.items():\n",
    "    if value == 20:    # 값이 20이면\n",
    "        del x[key]     # 키-값 쌍 삭제\n",
    "x"
   ]
  },
  {
   "cell_type": "code",
   "execution_count": 36,
   "metadata": {},
   "outputs": [
    {
     "data": {
      "text/plain": [
       "{'a': 10, 'c': 30, 'd': 40}"
      ]
     },
     "execution_count": 36,
     "metadata": {},
     "output_type": "execute_result"
    }
   ],
   "source": [
    "x = {'a': 10, 'b': 20, 'c': 30, 'd': 40}\n",
    "x = {key: value for key, value in x.items() if value != 20}\n",
    "x"
   ]
  },
  {
   "cell_type": "code",
   "execution_count": 37,
   "metadata": {},
   "outputs": [
    {
     "data": {
      "text/plain": [
       "{'a': 10, 'b': 20}"
      ]
     },
     "execution_count": 37,
     "metadata": {},
     "output_type": "execute_result"
    }
   ],
   "source": [
    "# Filtering\n",
    "x = {'a': 10, 'b': 20, 'c': 30, 'd': 40}\n",
    "x = {key: value for key, value in x.items() if value < 25}\n",
    "x"
   ]
  },
  {
   "cell_type": "markdown",
   "metadata": {},
   "source": [
    "### Nested Dictionary"
   ]
  },
  {
   "cell_type": "code",
   "execution_count": 38,
   "metadata": {},
   "outputs": [],
   "source": [
    "terrestrial_planet = {\n",
    "    'Mercury': {\n",
    "        'mean_radius': 2439.7,\n",
    "        'mass': 3.3022E+23,\n",
    "        'orbital_period': 87.969\n",
    "    },\n",
    "    'Venus': {\n",
    "        'mean_radius': 6051.8,\n",
    "        'mass': 4.8676E+24,\n",
    "        'orbital_period': 224.70069,\n",
    "    },\n",
    "    'Earth': {\n",
    "        'mean_radius': 6371.0,\n",
    "        'mass': 5.97219E+24,\n",
    "        'orbital_period': 365.25641,\n",
    "    },\n",
    "    'Mars': {\n",
    "        'mean_radius': 3389.5,\n",
    "        'mass': 6.4185E+23,\n",
    "        'orbital_period': 686.9600,\n",
    "    }\n",
    "}"
   ]
  },
  {
   "cell_type": "code",
   "execution_count": 39,
   "metadata": {},
   "outputs": [
    {
     "name": "stdout",
     "output_type": "stream",
     "text": [
      "6051.8\n"
     ]
    }
   ],
   "source": [
    "print(terrestrial_planet['Venus']['mean_radius'])"
   ]
  },
  {
   "cell_type": "code",
   "execution_count": 43,
   "metadata": {},
   "outputs": [
    {
     "name": "stdout",
     "output_type": "stream",
     "text": [
      "Mercury\n",
      "\tmean_radius:\t2439.7\n",
      "\tmass:\t3.3022e+23\n",
      "\torbital_period:\t87.969\n",
      "Venus\n",
      "\tmean_radius:\t6051.8\n",
      "\tmass:\t4.8676e+24\n",
      "\torbital_period:\t224.70069\n",
      "Earth\n",
      "\tmean_radius:\t6371.0\n",
      "\tmass:\t5.97219e+24\n",
      "\torbital_period:\t365.25641\n",
      "Mars\n",
      "\tmean_radius:\t3389.5\n",
      "\tmass:\t6.4185e+23\n",
      "\torbital_period:\t686.96\n"
     ]
    }
   ],
   "source": [
    "for outer_key, outer_value in terrestrial_planet.items():\n",
    "    print(outer_key)\n",
    "    for inner_key, inner_value in outer_value.items():\n",
    "        print('\\t', inner_key, ':\\t', inner_value, sep='')"
   ]
  },
  {
   "cell_type": "markdown",
   "metadata": {},
   "source": [
    "### 딕셔너리의 할당과 복사"
   ]
  },
  {
   "cell_type": "code",
   "execution_count": 44,
   "metadata": {},
   "outputs": [
    {
     "data": {
      "text/plain": [
       "{'a': 10, 'b': 20, 'c': 30, 'd': 99}"
      ]
     },
     "execution_count": 44,
     "metadata": {},
     "output_type": "execute_result"
    }
   ],
   "source": [
    "x = {'a': 10, 'b': 20, 'c': 30, 'd': 40}\n",
    "y = x\n",
    "y['d'] = 99\n",
    "x"
   ]
  },
  {
   "cell_type": "code",
   "execution_count": 45,
   "metadata": {},
   "outputs": [
    {
     "data": {
      "text/plain": [
       "{'a': 10, 'b': 20, 'c': 30, 'd': 40}"
      ]
     },
     "execution_count": 45,
     "metadata": {},
     "output_type": "execute_result"
    }
   ],
   "source": [
    "x = {'a': 10, 'b': 20, 'c': 30, 'd': 40}\n",
    "y = x.copy()\n",
    "y['d'] = 99\n",
    "x"
   ]
  },
  {
   "cell_type": "code",
   "execution_count": 46,
   "metadata": {},
   "outputs": [
    {
     "data": {
      "text/plain": [
       "{'a': {'python': '2.7.15'}, 'b': {'python': '3.6'}}"
      ]
     },
     "execution_count": 46,
     "metadata": {},
     "output_type": "execute_result"
    }
   ],
   "source": [
    "x = {'a': {'python': '2.7'}, 'b': {'python': '3.6'}}\n",
    "y = x.copy()\n",
    "y['a']['python'] = '2.7.15'\n",
    "x"
   ]
  },
  {
   "cell_type": "code",
   "execution_count": 47,
   "metadata": {},
   "outputs": [
    {
     "data": {
      "text/plain": [
       "{'a': {'python': '2.7'}, 'b': {'python': '3.6'}}"
      ]
     },
     "execution_count": 47,
     "metadata": {},
     "output_type": "execute_result"
    }
   ],
   "source": [
    "x = {'a': {'python': '2.7'}, 'b': {'python': '3.6'}}\n",
    "import copy\n",
    "y = copy.deepcopy(x)\n",
    "y['a']['python'] = '2.7.15'\n",
    "x"
   ]
  },
  {
   "cell_type": "markdown",
   "metadata": {},
   "source": [
    "### Word Count Top 10 연습문제"
   ]
  },
  {
   "cell_type": "code",
   "execution_count": 34,
   "metadata": {},
   "outputs": [],
   "source": [
    "lorem = '''\n",
    "What is Lorem Ipsum?\n",
    "Lorem Ipsum is simply dummy text of the printing and typesetting industry. Lorem Ipsum has been the industry's standard dummy text ever since the 1500s, when an unknown printer took a galley of type and scrambled it to make a type specimen book. It has survived not only five centuries, but also the leap into electronic typesetting, remaining essentially unchanged. It was popularised in the 1960s with the release of Letraset sheets containing Lorem Ipsum passages, and more recently with desktop publishing software like Aldus PageMaker including versions of Lorem Ipsum.\n",
    "\n",
    "Why do we use it?\n",
    "It is a long established fact that a reader will be distracted by the readable content of a page when looking at its layout. The point of using Lorem Ipsum is that it has a more-or-less normal distribution of letters, as opposed to using 'Content here, content here', making it look like readable English. Many desktop publishing packages and web page editors now use Lorem Ipsum as their default model text, and a search for 'lorem ipsum' will uncover many web sites still in their infancy. Various versions have evolved over the years, sometimes by accident, sometimes on purpose (injected humour and the like).\n",
    "\n",
    "Where does it come from?\n",
    "Contrary to popular belief, Lorem Ipsum is not simply random text. It has roots in a piece of classical Latin literature from 45 BC, making it over 2000 years old. Richard McClintock, a Latin professor at Hampden-Sydney College in Virginia, looked up one of the more obscure Latin words, consectetur, from a Lorem Ipsum passage, and going through the cites of the word in classical literature, discovered the undoubtable source. Lorem Ipsum comes from sections 1.10.32 and 1.10.33 of \"de Finibus Bonorum et Malorum\" (The Extremes of Good and Evil) by Cicero, written in 45 BC. This book is a treatise on the theory of ethics, very popular during the Renaissance. The first line of Lorem Ipsum, \"Lorem ipsum dolor sit amet..\", comes from a line in section 1.10.32.\n",
    "\n",
    "The standard chunk of Lorem Ipsum used since the 1500s is reproduced below for those interested. Sections 1.10.32 and 1.10.33 from \"de Finibus Bonorum et Malorum\" by Cicero are also reproduced in their exact original form, accompanied by English versions from the 1914 translation by H. Rackham.\n",
    "\n",
    "Where can I get some?\n",
    "There are many variations of passages of Lorem Ipsum available, but the majority have suffered alteration in some form, by injected humour, or randomised words which don't look even slightly believable. If you are going to use a passage of Lorem Ipsum, you need to be sure there isn't anything embarrassing hidden in the middle of text. All the Lorem Ipsum generators on the Internet tend to repeat predefined chunks as necessary, making this the first true generator on the Internet. It uses a dictionary of over 200 Latin words, combined with a handful of model sentence structures, to generate Lorem Ipsum which looks reasonable. The generated Lorem Ipsum is therefore always free from repetition, injected humour, or non-characteristic words etc.\n",
    "'''"
   ]
  },
  {
   "cell_type": "code",
   "execution_count": 35,
   "metadata": {},
   "outputs": [
    {
     "name": "stdout",
     "output_type": "stream",
     "text": [
      "\n",
      "what is lorem ipsum?\n",
      "lorem ipsum is simply dummy text of the printing and typesetting industry. lorem ipsum has been the industry's standard dummy text ever since the 1500s, when an unknown printer took a galley of type and scrambled it to make a type specimen book. it has survived not only five centuries, but also the leap into electronic typesetting, remaining essentially unchanged. it was popularised in the 1960s with the release of letraset sheets containing lorem ipsum passages, and more recently with desktop publishing software like aldus pagemaker including versions of lorem ipsum.\n",
      "\n",
      "why do we use it?\n",
      "it is a long established fact that a reader will be distracted by the readable content of a page when looking at its layout. the point of using lorem ipsum is that it has a more-or-less normal distribution of letters, as opposed to using 'content here, content here', making it look like readable english. many desktop publishing packages and web page editors now use lorem ipsum as their default model text, and a search for 'lorem ipsum' will uncover many web sites still in their infancy. various versions have evolved over the years, sometimes by accident, sometimes on purpose (injected humour and the like).\n",
      "\n",
      "where does it come from?\n",
      "contrary to popular belief, lorem ipsum is not simply random text. it has roots in a piece of classical latin literature from 45 bc, making it over 2000 years old. richard mcclintock, a latin professor at hampden-sydney college in virginia, looked up one of the more obscure latin words, consectetur, from a lorem ipsum passage, and going through the cites of the word in classical literature, discovered the undoubtable source. lorem ipsum comes from sections 1.10.32 and 1.10.33 of \"de finibus bonorum et malorum\" (the extremes of good and evil) by cicero, written in 45 bc. this book is a treatise on the theory of ethics, very popular during the renaissance. the first line of lorem ipsum, \"lorem ipsum dolor sit amet..\", comes from a line in section 1.10.32.\n",
      "\n",
      "the standard chunk of lorem ipsum used since the 1500s is reproduced below for those interested. sections 1.10.32 and 1.10.33 from \"de finibus bonorum et malorum\" by cicero are also reproduced in their exact original form, accompanied by english versions from the 1914 translation by h. rackham.\n",
      "\n",
      "where can i get some?\n",
      "there are many variations of passages of lorem ipsum available, but the majority have suffered alteration in some form, by injected humour, or randomised words which don't look even slightly believable. if you are going to use a passage of lorem ipsum, you need to be sure there isn't anything embarrassing hidden in the middle of text. all the lorem ipsum generators on the internet tend to repeat predefined chunks as necessary, making this the first true generator on the internet. it uses a dictionary of over 200 latin words, combined with a handful of model sentence structures, to generate lorem ipsum which looks reasonable. the generated lorem ipsum is therefore always free from repetition, injected humour, or non-characteristic words etc.\n",
      "\n"
     ]
    }
   ],
   "source": [
    "# 소문자로 변경\n",
    "import string\n",
    "lorem = lorem.lower()\n",
    "print(lorem)"
   ]
  },
  {
   "cell_type": "code",
   "execution_count": 36,
   "metadata": {},
   "outputs": [
    {
     "name": "stdout",
     "output_type": "stream",
     "text": [
      "\n",
      "what is lorem ipsum\n",
      "lorem ipsum is simply dummy text of the printing and typesetting industry lorem ipsum has been the industrys standard dummy text ever since the s when an unknown printer took a galley of type and scrambled it to make a type specimen book it has survived not only five centuries but also the leap into electronic typesetting remaining essentially unchanged it was popularised in the s with the release of letraset sheets containing lorem ipsum passages and more recently with desktop publishing software like aldus pagemaker including versions of lorem ipsum\n",
      "\n",
      "why do we use it\n",
      "it is a long established fact that a reader will be distracted by the readable content of a page when looking at its layout the point of using lorem ipsum is that it has a moreorless normal distribution of letters as opposed to using content here content here making it look like readable english many desktop publishing packages and web page editors now use lorem ipsum as their default model text and a search for lorem ipsum will uncover many web sites still in their infancy various versions have evolved over the years sometimes by accident sometimes on purpose injected humour and the like\n",
      "\n",
      "where does it come from\n",
      "contrary to popular belief lorem ipsum is not simply random text it has roots in a piece of classical latin literature from  bc making it over  years old richard mcclintock a latin professor at hampdensydney college in virginia looked up one of the more obscure latin words consectetur from a lorem ipsum passage and going through the cites of the word in classical literature discovered the undoubtable source lorem ipsum comes from sections  and  of de finibus bonorum et malorum the extremes of good and evil by cicero written in  bc this book is a treatise on the theory of ethics very popular during the renaissance the first line of lorem ipsum lorem ipsum dolor sit amet comes from a line in section \n",
      "\n",
      "the standard chunk of lorem ipsum used since the s is reproduced below for those interested sections  and  from de finibus bonorum et malorum by cicero are also reproduced in their exact original form accompanied by english versions from the  translation by h rackham\n",
      "\n",
      "where can i get some\n",
      "there are many variations of passages of lorem ipsum available but the majority have suffered alteration in some form by injected humour or randomised words which dont look even slightly believable if you are going to use a passage of lorem ipsum you need to be sure there isnt anything embarrassing hidden in the middle of text all the lorem ipsum generators on the internet tend to repeat predefined chunks as necessary making this the first true generator on the internet it uses a dictionary of over  latin words combined with a handful of model sentence structures to generate lorem ipsum which looks reasonable the generated lorem ipsum is therefore always free from repetition injected humour or noncharacteristic words etc\n",
      "\n"
     ]
    }
   ],
   "source": [
    "# 구둣점 삭제\n",
    "import re\n",
    "lorem = re.sub(f'[{string.punctuation}0-9]', '', lorem, flags=re.MULTILINE)\n",
    "print(lorem)"
   ]
  },
  {
   "cell_type": "code",
   "execution_count": 37,
   "metadata": {},
   "outputs": [
    {
     "data": {
      "text/plain": [
       "['what',\n",
       " 'is',\n",
       " 'lorem',\n",
       " 'ipsum',\n",
       " 'lorem',\n",
       " 'ipsum',\n",
       " 'is',\n",
       " 'simply',\n",
       " 'dummy',\n",
       " 'text',\n",
       " 'of',\n",
       " 'the',\n",
       " 'printing',\n",
       " 'and',\n",
       " 'typesetting',\n",
       " 'industry',\n",
       " 'lorem',\n",
       " 'ipsum',\n",
       " 'has',\n",
       " 'been',\n",
       " 'the',\n",
       " 'industrys',\n",
       " 'standard',\n",
       " 'dummy',\n",
       " 'text',\n",
       " 'ever',\n",
       " 'since',\n",
       " 'the',\n",
       " 's',\n",
       " 'when',\n",
       " 'an',\n",
       " 'unknown',\n",
       " 'printer',\n",
       " 'took',\n",
       " 'a',\n",
       " 'galley',\n",
       " 'of',\n",
       " 'type',\n",
       " 'and',\n",
       " 'scrambled',\n",
       " 'it',\n",
       " 'to',\n",
       " 'make',\n",
       " 'a',\n",
       " 'type',\n",
       " 'specimen',\n",
       " 'book',\n",
       " 'it',\n",
       " 'has',\n",
       " 'survived',\n",
       " 'not',\n",
       " 'only',\n",
       " 'five',\n",
       " 'centuries',\n",
       " 'but',\n",
       " 'also',\n",
       " 'the',\n",
       " 'leap',\n",
       " 'into',\n",
       " 'electronic',\n",
       " 'typesetting',\n",
       " 'remaining',\n",
       " 'essentially',\n",
       " 'unchanged',\n",
       " 'it',\n",
       " 'was',\n",
       " 'popularised',\n",
       " 'in',\n",
       " 'the',\n",
       " 's',\n",
       " 'with',\n",
       " 'the',\n",
       " 'release',\n",
       " 'of',\n",
       " 'letraset',\n",
       " 'sheets',\n",
       " 'containing',\n",
       " 'lorem',\n",
       " 'ipsum',\n",
       " 'passages',\n",
       " 'and',\n",
       " 'more',\n",
       " 'recently',\n",
       " 'with',\n",
       " 'desktop',\n",
       " 'publishing',\n",
       " 'software',\n",
       " 'like',\n",
       " 'aldus',\n",
       " 'pagemaker',\n",
       " 'including',\n",
       " 'versions',\n",
       " 'of',\n",
       " 'lorem',\n",
       " 'ipsum',\n",
       " 'why',\n",
       " 'do',\n",
       " 'we',\n",
       " 'use',\n",
       " 'it',\n",
       " 'it',\n",
       " 'is',\n",
       " 'a',\n",
       " 'long',\n",
       " 'established',\n",
       " 'fact',\n",
       " 'that',\n",
       " 'a',\n",
       " 'reader',\n",
       " 'will',\n",
       " 'be',\n",
       " 'distracted',\n",
       " 'by',\n",
       " 'the',\n",
       " 'readable',\n",
       " 'content',\n",
       " 'of',\n",
       " 'a',\n",
       " 'page',\n",
       " 'when',\n",
       " 'looking',\n",
       " 'at',\n",
       " 'its',\n",
       " 'layout',\n",
       " 'the',\n",
       " 'point',\n",
       " 'of',\n",
       " 'using',\n",
       " 'lorem',\n",
       " 'ipsum',\n",
       " 'is',\n",
       " 'that',\n",
       " 'it',\n",
       " 'has',\n",
       " 'a',\n",
       " 'moreorless',\n",
       " 'normal',\n",
       " 'distribution',\n",
       " 'of',\n",
       " 'letters',\n",
       " 'as',\n",
       " 'opposed',\n",
       " 'to',\n",
       " 'using',\n",
       " 'content',\n",
       " 'here',\n",
       " 'content',\n",
       " 'here',\n",
       " 'making',\n",
       " 'it',\n",
       " 'look',\n",
       " 'like',\n",
       " 'readable',\n",
       " 'english',\n",
       " 'many',\n",
       " 'desktop',\n",
       " 'publishing',\n",
       " 'packages',\n",
       " 'and',\n",
       " 'web',\n",
       " 'page',\n",
       " 'editors',\n",
       " 'now',\n",
       " 'use',\n",
       " 'lorem',\n",
       " 'ipsum',\n",
       " 'as',\n",
       " 'their',\n",
       " 'default',\n",
       " 'model',\n",
       " 'text',\n",
       " 'and',\n",
       " 'a',\n",
       " 'search',\n",
       " 'for',\n",
       " 'lorem',\n",
       " 'ipsum',\n",
       " 'will',\n",
       " 'uncover',\n",
       " 'many',\n",
       " 'web',\n",
       " 'sites',\n",
       " 'still',\n",
       " 'in',\n",
       " 'their',\n",
       " 'infancy',\n",
       " 'various',\n",
       " 'versions',\n",
       " 'have',\n",
       " 'evolved',\n",
       " 'over',\n",
       " 'the',\n",
       " 'years',\n",
       " 'sometimes',\n",
       " 'by',\n",
       " 'accident',\n",
       " 'sometimes',\n",
       " 'on',\n",
       " 'purpose',\n",
       " 'injected',\n",
       " 'humour',\n",
       " 'and',\n",
       " 'the',\n",
       " 'like',\n",
       " 'where',\n",
       " 'does',\n",
       " 'it',\n",
       " 'come',\n",
       " 'from',\n",
       " 'contrary',\n",
       " 'to',\n",
       " 'popular',\n",
       " 'belief',\n",
       " 'lorem',\n",
       " 'ipsum',\n",
       " 'is',\n",
       " 'not',\n",
       " 'simply',\n",
       " 'random',\n",
       " 'text',\n",
       " 'it',\n",
       " 'has',\n",
       " 'roots',\n",
       " 'in',\n",
       " 'a',\n",
       " 'piece',\n",
       " 'of',\n",
       " 'classical',\n",
       " 'latin',\n",
       " 'literature',\n",
       " 'from',\n",
       " 'bc',\n",
       " 'making',\n",
       " 'it',\n",
       " 'over',\n",
       " 'years',\n",
       " 'old',\n",
       " 'richard',\n",
       " 'mcclintock',\n",
       " 'a',\n",
       " 'latin',\n",
       " 'professor',\n",
       " 'at',\n",
       " 'hampdensydney',\n",
       " 'college',\n",
       " 'in',\n",
       " 'virginia',\n",
       " 'looked',\n",
       " 'up',\n",
       " 'one',\n",
       " 'of',\n",
       " 'the',\n",
       " 'more',\n",
       " 'obscure',\n",
       " 'latin',\n",
       " 'words',\n",
       " 'consectetur',\n",
       " 'from',\n",
       " 'a',\n",
       " 'lorem',\n",
       " 'ipsum',\n",
       " 'passage',\n",
       " 'and',\n",
       " 'going',\n",
       " 'through',\n",
       " 'the',\n",
       " 'cites',\n",
       " 'of',\n",
       " 'the',\n",
       " 'word',\n",
       " 'in',\n",
       " 'classical',\n",
       " 'literature',\n",
       " 'discovered',\n",
       " 'the',\n",
       " 'undoubtable',\n",
       " 'source',\n",
       " 'lorem',\n",
       " 'ipsum',\n",
       " 'comes',\n",
       " 'from',\n",
       " 'sections',\n",
       " 'and',\n",
       " 'of',\n",
       " 'de',\n",
       " 'finibus',\n",
       " 'bonorum',\n",
       " 'et',\n",
       " 'malorum',\n",
       " 'the',\n",
       " 'extremes',\n",
       " 'of',\n",
       " 'good',\n",
       " 'and',\n",
       " 'evil',\n",
       " 'by',\n",
       " 'cicero',\n",
       " 'written',\n",
       " 'in',\n",
       " 'bc',\n",
       " 'this',\n",
       " 'book',\n",
       " 'is',\n",
       " 'a',\n",
       " 'treatise',\n",
       " 'on',\n",
       " 'the',\n",
       " 'theory',\n",
       " 'of',\n",
       " 'ethics',\n",
       " 'very',\n",
       " 'popular',\n",
       " 'during',\n",
       " 'the',\n",
       " 'renaissance',\n",
       " 'the',\n",
       " 'first',\n",
       " 'line',\n",
       " 'of',\n",
       " 'lorem',\n",
       " 'ipsum',\n",
       " 'lorem',\n",
       " 'ipsum',\n",
       " 'dolor',\n",
       " 'sit',\n",
       " 'amet',\n",
       " 'comes',\n",
       " 'from',\n",
       " 'a',\n",
       " 'line',\n",
       " 'in',\n",
       " 'section',\n",
       " 'the',\n",
       " 'standard',\n",
       " 'chunk',\n",
       " 'of',\n",
       " 'lorem',\n",
       " 'ipsum',\n",
       " 'used',\n",
       " 'since',\n",
       " 'the',\n",
       " 's',\n",
       " 'is',\n",
       " 'reproduced',\n",
       " 'below',\n",
       " 'for',\n",
       " 'those',\n",
       " 'interested',\n",
       " 'sections',\n",
       " 'and',\n",
       " 'from',\n",
       " 'de',\n",
       " 'finibus',\n",
       " 'bonorum',\n",
       " 'et',\n",
       " 'malorum',\n",
       " 'by',\n",
       " 'cicero',\n",
       " 'are',\n",
       " 'also',\n",
       " 'reproduced',\n",
       " 'in',\n",
       " 'their',\n",
       " 'exact',\n",
       " 'original',\n",
       " 'form',\n",
       " 'accompanied',\n",
       " 'by',\n",
       " 'english',\n",
       " 'versions',\n",
       " 'from',\n",
       " 'the',\n",
       " 'translation',\n",
       " 'by',\n",
       " 'h',\n",
       " 'rackham',\n",
       " 'where',\n",
       " 'can',\n",
       " 'i',\n",
       " 'get',\n",
       " 'some',\n",
       " 'there',\n",
       " 'are',\n",
       " 'many',\n",
       " 'variations',\n",
       " 'of',\n",
       " 'passages',\n",
       " 'of',\n",
       " 'lorem',\n",
       " 'ipsum',\n",
       " 'available',\n",
       " 'but',\n",
       " 'the',\n",
       " 'majority',\n",
       " 'have',\n",
       " 'suffered',\n",
       " 'alteration',\n",
       " 'in',\n",
       " 'some',\n",
       " 'form',\n",
       " 'by',\n",
       " 'injected',\n",
       " 'humour',\n",
       " 'or',\n",
       " 'randomised',\n",
       " 'words',\n",
       " 'which',\n",
       " 'dont',\n",
       " 'look',\n",
       " 'even',\n",
       " 'slightly',\n",
       " 'believable',\n",
       " 'if',\n",
       " 'you',\n",
       " 'are',\n",
       " 'going',\n",
       " 'to',\n",
       " 'use',\n",
       " 'a',\n",
       " 'passage',\n",
       " 'of',\n",
       " 'lorem',\n",
       " 'ipsum',\n",
       " 'you',\n",
       " 'need',\n",
       " 'to',\n",
       " 'be',\n",
       " 'sure',\n",
       " 'there',\n",
       " 'isnt',\n",
       " 'anything',\n",
       " 'embarrassing',\n",
       " 'hidden',\n",
       " 'in',\n",
       " 'the',\n",
       " 'middle',\n",
       " 'of',\n",
       " 'text',\n",
       " 'all',\n",
       " 'the',\n",
       " 'lorem',\n",
       " 'ipsum',\n",
       " 'generators',\n",
       " 'on',\n",
       " 'the',\n",
       " 'internet',\n",
       " 'tend',\n",
       " 'to',\n",
       " 'repeat',\n",
       " 'predefined',\n",
       " 'chunks',\n",
       " 'as',\n",
       " 'necessary',\n",
       " 'making',\n",
       " 'this',\n",
       " 'the',\n",
       " 'first',\n",
       " 'true',\n",
       " 'generator',\n",
       " 'on',\n",
       " 'the',\n",
       " 'internet',\n",
       " 'it',\n",
       " 'uses',\n",
       " 'a',\n",
       " 'dictionary',\n",
       " 'of',\n",
       " 'over',\n",
       " 'latin',\n",
       " 'words',\n",
       " 'combined',\n",
       " 'with',\n",
       " 'a',\n",
       " 'handful',\n",
       " 'of',\n",
       " 'model',\n",
       " 'sentence',\n",
       " 'structures',\n",
       " 'to',\n",
       " 'generate',\n",
       " 'lorem',\n",
       " 'ipsum',\n",
       " 'which',\n",
       " 'looks',\n",
       " 'reasonable',\n",
       " 'the',\n",
       " 'generated',\n",
       " 'lorem',\n",
       " 'ipsum',\n",
       " 'is',\n",
       " 'therefore',\n",
       " 'always',\n",
       " 'free',\n",
       " 'from',\n",
       " 'repetition',\n",
       " 'injected',\n",
       " 'humour',\n",
       " 'or',\n",
       " 'noncharacteristic',\n",
       " 'words',\n",
       " 'etc']"
      ]
     },
     "execution_count": 37,
     "metadata": {},
     "output_type": "execute_result"
    }
   ],
   "source": [
    "lorem_list = lorem.split()\n",
    "print(lorem_list)"
   ]
  },
  {
   "cell_type": "code",
   "execution_count": 38,
   "metadata": {},
   "outputs": [
    {
     "data": {
      "text/plain": [
       "{'what': 1,\n",
       " 'is': 8,\n",
       " 'lorem': 19,\n",
       " 'ipsum': 19,\n",
       " 'simply': 2,\n",
       " 'dummy': 2,\n",
       " 'text': 5,\n",
       " 'of': 21,\n",
       " 'the': 28,\n",
       " 'printing': 1,\n",
       " 'and': 10,\n",
       " 'typesetting': 2,\n",
       " 'industry': 1,\n",
       " 'has': 4,\n",
       " 'been': 1,\n",
       " 'industrys': 1,\n",
       " 'standard': 2,\n",
       " 'ever': 1,\n",
       " 'since': 2,\n",
       " 's': 3,\n",
       " 'when': 2,\n",
       " 'an': 1,\n",
       " 'unknown': 1,\n",
       " 'printer': 1,\n",
       " 'took': 1,\n",
       " 'a': 15,\n",
       " 'galley': 1,\n",
       " 'type': 2,\n",
       " 'scrambled': 1,\n",
       " 'it': 11,\n",
       " 'to': 7,\n",
       " 'make': 1,\n",
       " 'specimen': 1,\n",
       " 'book': 2,\n",
       " 'survived': 1,\n",
       " 'not': 2,\n",
       " 'only': 1,\n",
       " 'five': 1,\n",
       " 'centuries': 1,\n",
       " 'but': 2,\n",
       " 'also': 2,\n",
       " 'leap': 1,\n",
       " 'into': 1,\n",
       " 'electronic': 1,\n",
       " 'remaining': 1,\n",
       " 'essentially': 1,\n",
       " 'unchanged': 1,\n",
       " 'was': 1,\n",
       " 'popularised': 1,\n",
       " 'in': 10,\n",
       " 'with': 3,\n",
       " 'release': 1,\n",
       " 'letraset': 1,\n",
       " 'sheets': 1,\n",
       " 'containing': 1,\n",
       " 'passages': 2,\n",
       " 'more': 2,\n",
       " 'recently': 1,\n",
       " 'desktop': 2,\n",
       " 'publishing': 2,\n",
       " 'software': 1,\n",
       " 'like': 3,\n",
       " 'aldus': 1,\n",
       " 'pagemaker': 1,\n",
       " 'including': 1,\n",
       " 'versions': 3,\n",
       " 'why': 1,\n",
       " 'do': 1,\n",
       " 'we': 1,\n",
       " 'use': 3,\n",
       " 'long': 1,\n",
       " 'established': 1,\n",
       " 'fact': 1,\n",
       " 'that': 2,\n",
       " 'reader': 1,\n",
       " 'will': 2,\n",
       " 'be': 2,\n",
       " 'distracted': 1,\n",
       " 'by': 7,\n",
       " 'readable': 2,\n",
       " 'content': 3,\n",
       " 'page': 2,\n",
       " 'looking': 1,\n",
       " 'at': 2,\n",
       " 'its': 1,\n",
       " 'layout': 1,\n",
       " 'point': 1,\n",
       " 'using': 2,\n",
       " 'moreorless': 1,\n",
       " 'normal': 1,\n",
       " 'distribution': 1,\n",
       " 'letters': 1,\n",
       " 'as': 3,\n",
       " 'opposed': 1,\n",
       " 'here': 2,\n",
       " 'making': 3,\n",
       " 'look': 2,\n",
       " 'english': 2,\n",
       " 'many': 3,\n",
       " 'packages': 1,\n",
       " 'web': 2,\n",
       " 'editors': 1,\n",
       " 'now': 1,\n",
       " 'their': 3,\n",
       " 'default': 1,\n",
       " 'model': 2,\n",
       " 'search': 1,\n",
       " 'for': 2,\n",
       " 'uncover': 1,\n",
       " 'sites': 1,\n",
       " 'still': 1,\n",
       " 'infancy': 1,\n",
       " 'various': 1,\n",
       " 'have': 2,\n",
       " 'evolved': 1,\n",
       " 'over': 3,\n",
       " 'years': 2,\n",
       " 'sometimes': 2,\n",
       " 'accident': 1,\n",
       " 'on': 4,\n",
       " 'purpose': 1,\n",
       " 'injected': 3,\n",
       " 'humour': 3,\n",
       " 'where': 2,\n",
       " 'does': 1,\n",
       " 'come': 1,\n",
       " 'from': 8,\n",
       " 'contrary': 1,\n",
       " 'popular': 2,\n",
       " 'belief': 1,\n",
       " 'random': 1,\n",
       " 'roots': 1,\n",
       " 'piece': 1,\n",
       " 'classical': 2,\n",
       " 'latin': 4,\n",
       " 'literature': 2,\n",
       " 'bc': 2,\n",
       " 'old': 1,\n",
       " 'richard': 1,\n",
       " 'mcclintock': 1,\n",
       " 'professor': 1,\n",
       " 'hampdensydney': 1,\n",
       " 'college': 1,\n",
       " 'virginia': 1,\n",
       " 'looked': 1,\n",
       " 'up': 1,\n",
       " 'one': 1,\n",
       " 'obscure': 1,\n",
       " 'words': 4,\n",
       " 'consectetur': 1,\n",
       " 'passage': 2,\n",
       " 'going': 2,\n",
       " 'through': 1,\n",
       " 'cites': 1,\n",
       " 'word': 1,\n",
       " 'discovered': 1,\n",
       " 'undoubtable': 1,\n",
       " 'source': 1,\n",
       " 'comes': 2,\n",
       " 'sections': 2,\n",
       " 'de': 2,\n",
       " 'finibus': 2,\n",
       " 'bonorum': 2,\n",
       " 'et': 2,\n",
       " 'malorum': 2,\n",
       " 'extremes': 1,\n",
       " 'good': 1,\n",
       " 'evil': 1,\n",
       " 'cicero': 2,\n",
       " 'written': 1,\n",
       " 'this': 2,\n",
       " 'treatise': 1,\n",
       " 'theory': 1,\n",
       " 'ethics': 1,\n",
       " 'very': 1,\n",
       " 'during': 1,\n",
       " 'renaissance': 1,\n",
       " 'first': 2,\n",
       " 'line': 2,\n",
       " 'dolor': 1,\n",
       " 'sit': 1,\n",
       " 'amet': 1,\n",
       " 'section': 1,\n",
       " 'chunk': 1,\n",
       " 'used': 1,\n",
       " 'reproduced': 2,\n",
       " 'below': 1,\n",
       " 'those': 1,\n",
       " 'interested': 1,\n",
       " 'are': 3,\n",
       " 'exact': 1,\n",
       " 'original': 1,\n",
       " 'form': 2,\n",
       " 'accompanied': 1,\n",
       " 'translation': 1,\n",
       " 'h': 1,\n",
       " 'rackham': 1,\n",
       " 'can': 1,\n",
       " 'i': 1,\n",
       " 'get': 1,\n",
       " 'some': 2,\n",
       " 'there': 2,\n",
       " 'variations': 1,\n",
       " 'available': 1,\n",
       " 'majority': 1,\n",
       " 'suffered': 1,\n",
       " 'alteration': 1,\n",
       " 'or': 2,\n",
       " 'randomised': 1,\n",
       " 'which': 2,\n",
       " 'dont': 1,\n",
       " 'even': 1,\n",
       " 'slightly': 1,\n",
       " 'believable': 1,\n",
       " 'if': 1,\n",
       " 'you': 2,\n",
       " 'need': 1,\n",
       " 'sure': 1,\n",
       " 'isnt': 1,\n",
       " 'anything': 1,\n",
       " 'embarrassing': 1,\n",
       " 'hidden': 1,\n",
       " 'middle': 1,\n",
       " 'all': 1,\n",
       " 'generators': 1,\n",
       " 'internet': 2,\n",
       " 'tend': 1,\n",
       " 'repeat': 1,\n",
       " 'predefined': 1,\n",
       " 'chunks': 1,\n",
       " 'necessary': 1,\n",
       " 'true': 1,\n",
       " 'generator': 1,\n",
       " 'uses': 1,\n",
       " 'dictionary': 1,\n",
       " 'combined': 1,\n",
       " 'handful': 1,\n",
       " 'sentence': 1,\n",
       " 'structures': 1,\n",
       " 'generate': 1,\n",
       " 'looks': 1,\n",
       " 'reasonable': 1,\n",
       " 'generated': 1,\n",
       " 'therefore': 1,\n",
       " 'always': 1,\n",
       " 'free': 1,\n",
       " 'repetition': 1,\n",
       " 'noncharacteristic': 1,\n",
       " 'etc': 1}"
      ]
     },
     "execution_count": 38,
     "metadata": {},
     "output_type": "execute_result"
    }
   ],
   "source": [
    "word_dict = {}\n",
    "for word in lorem_list:\n",
    "    if word in word_dict.keys():\n",
    "        word_dict[word] += 1\n",
    "    else:\n",
    "        word_dict.update({word: 1})\n",
    "print(word_dict)"
   ]
  },
  {
   "cell_type": "code",
   "execution_count": 39,
   "metadata": {},
   "outputs": [
    {
     "data": {
      "text/plain": [
       "['the',\n",
       " 'of',\n",
       " 'lorem',\n",
       " 'ipsum',\n",
       " 'a',\n",
       " 'it',\n",
       " 'and',\n",
       " 'in',\n",
       " 'is',\n",
       " 'from',\n",
       " 'to',\n",
       " 'by',\n",
       " 'text',\n",
       " 'has',\n",
       " 'on',\n",
       " 'latin',\n",
       " 'words',\n",
       " 's',\n",
       " 'with',\n",
       " 'like',\n",
       " 'versions',\n",
       " 'use',\n",
       " 'content',\n",
       " 'as',\n",
       " 'making',\n",
       " 'many',\n",
       " 'their',\n",
       " 'over',\n",
       " 'injected',\n",
       " 'humour',\n",
       " 'are',\n",
       " 'simply',\n",
       " 'dummy',\n",
       " 'typesetting',\n",
       " 'standard',\n",
       " 'since',\n",
       " 'when',\n",
       " 'type',\n",
       " 'book',\n",
       " 'not',\n",
       " 'but',\n",
       " 'also',\n",
       " 'passages',\n",
       " 'more',\n",
       " 'desktop',\n",
       " 'publishing',\n",
       " 'that',\n",
       " 'will',\n",
       " 'be',\n",
       " 'readable',\n",
       " 'page',\n",
       " 'at',\n",
       " 'using',\n",
       " 'here',\n",
       " 'look',\n",
       " 'english',\n",
       " 'web',\n",
       " 'model',\n",
       " 'for',\n",
       " 'have',\n",
       " 'years',\n",
       " 'sometimes',\n",
       " 'where',\n",
       " 'popular',\n",
       " 'classical',\n",
       " 'literature',\n",
       " 'bc',\n",
       " 'passage',\n",
       " 'going',\n",
       " 'comes',\n",
       " 'sections',\n",
       " 'de',\n",
       " 'finibus',\n",
       " 'bonorum',\n",
       " 'et',\n",
       " 'malorum',\n",
       " 'cicero',\n",
       " 'this',\n",
       " 'first',\n",
       " 'line',\n",
       " 'reproduced',\n",
       " 'form',\n",
       " 'some',\n",
       " 'there',\n",
       " 'or',\n",
       " 'which',\n",
       " 'you',\n",
       " 'internet',\n",
       " 'what',\n",
       " 'printing',\n",
       " 'industry',\n",
       " 'been',\n",
       " 'industrys',\n",
       " 'ever',\n",
       " 'an',\n",
       " 'unknown',\n",
       " 'printer',\n",
       " 'took',\n",
       " 'galley',\n",
       " 'scrambled',\n",
       " 'make',\n",
       " 'specimen',\n",
       " 'survived',\n",
       " 'only',\n",
       " 'five',\n",
       " 'centuries',\n",
       " 'leap',\n",
       " 'into',\n",
       " 'electronic',\n",
       " 'remaining',\n",
       " 'essentially',\n",
       " 'unchanged',\n",
       " 'was',\n",
       " 'popularised',\n",
       " 'release',\n",
       " 'letraset',\n",
       " 'sheets',\n",
       " 'containing',\n",
       " 'recently',\n",
       " 'software',\n",
       " 'aldus',\n",
       " 'pagemaker',\n",
       " 'including',\n",
       " 'why',\n",
       " 'do',\n",
       " 'we',\n",
       " 'long',\n",
       " 'established',\n",
       " 'fact',\n",
       " 'reader',\n",
       " 'distracted',\n",
       " 'looking',\n",
       " 'its',\n",
       " 'layout',\n",
       " 'point',\n",
       " 'moreorless',\n",
       " 'normal',\n",
       " 'distribution',\n",
       " 'letters',\n",
       " 'opposed',\n",
       " 'packages',\n",
       " 'editors',\n",
       " 'now',\n",
       " 'default',\n",
       " 'search',\n",
       " 'uncover',\n",
       " 'sites',\n",
       " 'still',\n",
       " 'infancy',\n",
       " 'various',\n",
       " 'evolved',\n",
       " 'accident',\n",
       " 'purpose',\n",
       " 'does',\n",
       " 'come',\n",
       " 'contrary',\n",
       " 'belief',\n",
       " 'random',\n",
       " 'roots',\n",
       " 'piece',\n",
       " 'old',\n",
       " 'richard',\n",
       " 'mcclintock',\n",
       " 'professor',\n",
       " 'hampdensydney',\n",
       " 'college',\n",
       " 'virginia',\n",
       " 'looked',\n",
       " 'up',\n",
       " 'one',\n",
       " 'obscure',\n",
       " 'consectetur',\n",
       " 'through',\n",
       " 'cites',\n",
       " 'word',\n",
       " 'discovered',\n",
       " 'undoubtable',\n",
       " 'source',\n",
       " 'extremes',\n",
       " 'good',\n",
       " 'evil',\n",
       " 'written',\n",
       " 'treatise',\n",
       " 'theory',\n",
       " 'ethics',\n",
       " 'very',\n",
       " 'during',\n",
       " 'renaissance',\n",
       " 'dolor',\n",
       " 'sit',\n",
       " 'amet',\n",
       " 'section',\n",
       " 'chunk',\n",
       " 'used',\n",
       " 'below',\n",
       " 'those',\n",
       " 'interested',\n",
       " 'exact',\n",
       " 'original',\n",
       " 'accompanied',\n",
       " 'translation',\n",
       " 'h',\n",
       " 'rackham',\n",
       " 'can',\n",
       " 'i',\n",
       " 'get',\n",
       " 'variations',\n",
       " 'available',\n",
       " 'majority',\n",
       " 'suffered',\n",
       " 'alteration',\n",
       " 'randomised',\n",
       " 'dont',\n",
       " 'even',\n",
       " 'slightly',\n",
       " 'believable',\n",
       " 'if',\n",
       " 'need',\n",
       " 'sure',\n",
       " 'isnt',\n",
       " 'anything',\n",
       " 'embarrassing',\n",
       " 'hidden',\n",
       " 'middle',\n",
       " 'all',\n",
       " 'generators',\n",
       " 'tend',\n",
       " 'repeat',\n",
       " 'predefined',\n",
       " 'chunks',\n",
       " 'necessary',\n",
       " 'true',\n",
       " 'generator',\n",
       " 'uses',\n",
       " 'dictionary',\n",
       " 'combined',\n",
       " 'handful',\n",
       " 'sentence',\n",
       " 'structures',\n",
       " 'generate',\n",
       " 'looks',\n",
       " 'reasonable',\n",
       " 'generated',\n",
       " 'therefore',\n",
       " 'always',\n",
       " 'free',\n",
       " 'repetition',\n",
       " 'noncharacteristic',\n",
       " 'etc']"
      ]
     },
     "execution_count": 39,
     "metadata": {},
     "output_type": "execute_result"
    }
   ],
   "source": [
    "sorted_words = sorted(word_dict, key=lambda k : word_dict[k], reverse=True)\n",
    "print(sorted_words)"
   ]
  },
  {
   "cell_type": "code",
   "execution_count": 40,
   "metadata": {},
   "outputs": [
    {
     "name": "stdout",
     "output_type": "stream",
     "text": [
      "the 28\n",
      "of 21\n",
      "lorem 19\n",
      "ipsum 19\n",
      "a 15\n",
      "it 11\n",
      "and 10\n",
      "in 10\n",
      "is 8\n",
      "from 8\n"
     ]
    }
   ],
   "source": [
    "for index, value in enumerate(sorted_words):\n",
    "    if index == 10:\n",
    "        break;\n",
    "    print(value, word_dict[value])"
   ]
  },
  {
   "cell_type": "markdown",
   "metadata": {},
   "source": [
    "### 파일로부터 읽어서 Word counting"
   ]
  },
  {
   "cell_type": "code",
   "execution_count": 42,
   "metadata": {},
   "outputs": [],
   "source": [
    "with open('c:/temp/lorem.txt', 'r') as file:    # hello.txt 파일을 읽기 모드(r)로 열기\n",
    "    lines = file.readlines()\n",
    "lines = lorem.lower()\n",
    "#print(lines)"
   ]
  },
  {
   "cell_type": "code",
   "execution_count": 44,
   "metadata": {},
   "outputs": [],
   "source": [
    "lines = re.sub(f'[{string.punctuation}0-9]', '', lines, flags=re.MULTILINE)\n",
    "#print(lines)"
   ]
  },
  {
   "cell_type": "code",
   "execution_count": 45,
   "metadata": {},
   "outputs": [],
   "source": [
    "words_list = lines.split()\n",
    "#print(words_list)"
   ]
  },
  {
   "cell_type": "code",
   "execution_count": 46,
   "metadata": {},
   "outputs": [
    {
     "name": "stdout",
     "output_type": "stream",
     "text": [
      "{'what': 1, 'is': 8, 'lorem': 19, 'ipsum': 19, 'simply': 2, 'dummy': 2, 'text': 5, 'of': 21, 'the': 28, 'printing': 1, 'and': 10, 'typesetting': 2, 'industry': 1, 'has': 4, 'been': 1, 'industrys': 1, 'standard': 2, 'ever': 1, 'since': 2, 's': 3, 'when': 2, 'an': 1, 'unknown': 1, 'printer': 1, 'took': 1, 'a': 15, 'galley': 1, 'type': 2, 'scrambled': 1, 'it': 11, 'to': 7, 'make': 1, 'specimen': 1, 'book': 2, 'survived': 1, 'not': 2, 'only': 1, 'five': 1, 'centuries': 1, 'but': 2, 'also': 2, 'leap': 1, 'into': 1, 'electronic': 1, 'remaining': 1, 'essentially': 1, 'unchanged': 1, 'was': 1, 'popularised': 1, 'in': 10, 'with': 3, 'release': 1, 'letraset': 1, 'sheets': 1, 'containing': 1, 'passages': 2, 'more': 2, 'recently': 1, 'desktop': 2, 'publishing': 2, 'software': 1, 'like': 3, 'aldus': 1, 'pagemaker': 1, 'including': 1, 'versions': 3, 'why': 1, 'do': 1, 'we': 1, 'use': 3, 'long': 1, 'established': 1, 'fact': 1, 'that': 2, 'reader': 1, 'will': 2, 'be': 2, 'distracted': 1, 'by': 7, 'readable': 2, 'content': 3, 'page': 2, 'looking': 1, 'at': 2, 'its': 1, 'layout': 1, 'point': 1, 'using': 2, 'moreorless': 1, 'normal': 1, 'distribution': 1, 'letters': 1, 'as': 3, 'opposed': 1, 'here': 2, 'making': 3, 'look': 2, 'english': 2, 'many': 3, 'packages': 1, 'web': 2, 'editors': 1, 'now': 1, 'their': 3, 'default': 1, 'model': 2, 'search': 1, 'for': 2, 'uncover': 1, 'sites': 1, 'still': 1, 'infancy': 1, 'various': 1, 'have': 2, 'evolved': 1, 'over': 3, 'years': 2, 'sometimes': 2, 'accident': 1, 'on': 4, 'purpose': 1, 'injected': 3, 'humour': 3, 'where': 2, 'does': 1, 'come': 1, 'from': 8, 'contrary': 1, 'popular': 2, 'belief': 1, 'random': 1, 'roots': 1, 'piece': 1, 'classical': 2, 'latin': 4, 'literature': 2, 'bc': 2, 'old': 1, 'richard': 1, 'mcclintock': 1, 'professor': 1, 'hampdensydney': 1, 'college': 1, 'virginia': 1, 'looked': 1, 'up': 1, 'one': 1, 'obscure': 1, 'words': 4, 'consectetur': 1, 'passage': 2, 'going': 2, 'through': 1, 'cites': 1, 'word': 1, 'discovered': 1, 'undoubtable': 1, 'source': 1, 'comes': 2, 'sections': 2, 'de': 2, 'finibus': 2, 'bonorum': 2, 'et': 2, 'malorum': 2, 'extremes': 1, 'good': 1, 'evil': 1, 'cicero': 2, 'written': 1, 'this': 2, 'treatise': 1, 'theory': 1, 'ethics': 1, 'very': 1, 'during': 1, 'renaissance': 1, 'first': 2, 'line': 2, 'dolor': 1, 'sit': 1, 'amet': 1, 'section': 1, 'chunk': 1, 'used': 1, 'reproduced': 2, 'below': 1, 'those': 1, 'interested': 1, 'are': 3, 'exact': 1, 'original': 1, 'form': 2, 'accompanied': 1, 'translation': 1, 'h': 1, 'rackham': 1, 'can': 1, 'i': 1, 'get': 1, 'some': 2, 'there': 2, 'variations': 1, 'available': 1, 'majority': 1, 'suffered': 1, 'alteration': 1, 'or': 2, 'randomised': 1, 'which': 2, 'dont': 1, 'even': 1, 'slightly': 1, 'believable': 1, 'if': 1, 'you': 2, 'need': 1, 'sure': 1, 'isnt': 1, 'anything': 1, 'embarrassing': 1, 'hidden': 1, 'middle': 1, 'all': 1, 'generators': 1, 'internet': 2, 'tend': 1, 'repeat': 1, 'predefined': 1, 'chunks': 1, 'necessary': 1, 'true': 1, 'generator': 1, 'uses': 1, 'dictionary': 1, 'combined': 1, 'handful': 1, 'sentence': 1, 'structures': 1, 'generate': 1, 'looks': 1, 'reasonable': 1, 'generated': 1, 'therefore': 1, 'always': 1, 'free': 1, 'repetition': 1, 'noncharacteristic': 1, 'etc': 1}\n"
     ]
    }
   ],
   "source": [
    "word_dict = {}\n",
    "for word in words_list:\n",
    "    if word in word_dict.keys():\n",
    "        word_dict[word] += 1\n",
    "    else:\n",
    "        word_dict.update({word: 1})\n",
    "print(word_dict)"
   ]
  },
  {
   "cell_type": "code",
   "execution_count": 47,
   "metadata": {},
   "outputs": [
    {
     "name": "stdout",
     "output_type": "stream",
     "text": [
      "['the', 'of', 'lorem', 'ipsum', 'a', 'it', 'and', 'in', 'is', 'from', 'to', 'by', 'text', 'has', 'on', 'latin', 'words', 's', 'with', 'like', 'versions', 'use', 'content', 'as', 'making', 'many', 'their', 'over', 'injected', 'humour', 'are', 'simply', 'dummy', 'typesetting', 'standard', 'since', 'when', 'type', 'book', 'not', 'but', 'also', 'passages', 'more', 'desktop', 'publishing', 'that', 'will', 'be', 'readable', 'page', 'at', 'using', 'here', 'look', 'english', 'web', 'model', 'for', 'have', 'years', 'sometimes', 'where', 'popular', 'classical', 'literature', 'bc', 'passage', 'going', 'comes', 'sections', 'de', 'finibus', 'bonorum', 'et', 'malorum', 'cicero', 'this', 'first', 'line', 'reproduced', 'form', 'some', 'there', 'or', 'which', 'you', 'internet', 'what', 'printing', 'industry', 'been', 'industrys', 'ever', 'an', 'unknown', 'printer', 'took', 'galley', 'scrambled', 'make', 'specimen', 'survived', 'only', 'five', 'centuries', 'leap', 'into', 'electronic', 'remaining', 'essentially', 'unchanged', 'was', 'popularised', 'release', 'letraset', 'sheets', 'containing', 'recently', 'software', 'aldus', 'pagemaker', 'including', 'why', 'do', 'we', 'long', 'established', 'fact', 'reader', 'distracted', 'looking', 'its', 'layout', 'point', 'moreorless', 'normal', 'distribution', 'letters', 'opposed', 'packages', 'editors', 'now', 'default', 'search', 'uncover', 'sites', 'still', 'infancy', 'various', 'evolved', 'accident', 'purpose', 'does', 'come', 'contrary', 'belief', 'random', 'roots', 'piece', 'old', 'richard', 'mcclintock', 'professor', 'hampdensydney', 'college', 'virginia', 'looked', 'up', 'one', 'obscure', 'consectetur', 'through', 'cites', 'word', 'discovered', 'undoubtable', 'source', 'extremes', 'good', 'evil', 'written', 'treatise', 'theory', 'ethics', 'very', 'during', 'renaissance', 'dolor', 'sit', 'amet', 'section', 'chunk', 'used', 'below', 'those', 'interested', 'exact', 'original', 'accompanied', 'translation', 'h', 'rackham', 'can', 'i', 'get', 'variations', 'available', 'majority', 'suffered', 'alteration', 'randomised', 'dont', 'even', 'slightly', 'believable', 'if', 'need', 'sure', 'isnt', 'anything', 'embarrassing', 'hidden', 'middle', 'all', 'generators', 'tend', 'repeat', 'predefined', 'chunks', 'necessary', 'true', 'generator', 'uses', 'dictionary', 'combined', 'handful', 'sentence', 'structures', 'generate', 'looks', 'reasonable', 'generated', 'therefore', 'always', 'free', 'repetition', 'noncharacteristic', 'etc']\n"
     ]
    }
   ],
   "source": [
    "sorted_words = sorted(word_dict, key=lambda k : word_dict[k], reverse=True)\n",
    "print(sorted_words)"
   ]
  },
  {
   "cell_type": "code",
   "execution_count": 48,
   "metadata": {},
   "outputs": [
    {
     "name": "stdout",
     "output_type": "stream",
     "text": [
      "the 28\n",
      "of 21\n",
      "lorem 19\n",
      "ipsum 19\n",
      "a 15\n",
      "it 11\n",
      "and 10\n",
      "in 10\n",
      "is 8\n",
      "from 8\n"
     ]
    }
   ],
   "source": [
    "for index, value in enumerate(sorted_words):\n",
    "    if index == 10:\n",
    "        break;\n",
    "    print(value, word_dict[value])"
   ]
  },
  {
   "cell_type": "code",
   "execution_count": null,
   "metadata": {},
   "outputs": [],
   "source": []
  }
 ],
 "metadata": {
  "kernelspec": {
   "display_name": "Python 3",
   "language": "python",
   "name": "python3"
  },
  "language_info": {
   "codemirror_mode": {
    "name": "ipython",
    "version": 3
   },
   "file_extension": ".py",
   "mimetype": "text/x-python",
   "name": "python",
   "nbconvert_exporter": "python",
   "pygments_lexer": "ipython3",
   "version": "3.8.3"
  }
 },
 "nbformat": 4,
 "nbformat_minor": 4
}
